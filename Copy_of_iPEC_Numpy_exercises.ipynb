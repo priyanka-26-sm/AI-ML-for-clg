{
  "cells": [
    {
      "cell_type": "markdown",
      "metadata": {
        "id": "view-in-github",
        "colab_type": "text"
      },
      "source": [
        "<a href=\"https://colab.research.google.com/github/priyanka-26-sm/AI-ML-for-clg/blob/main/Copy_of_iPEC_Numpy_exercises.ipynb\" target=\"_parent\"><img src=\"https://colab.research.google.com/assets/colab-badge.svg\" alt=\"Open In Colab\"/></a>"
      ]
    },
    {
      "cell_type": "code",
      "execution_count": null,
      "metadata": {
        "id": "ZtKJThT2mhzF"
      },
      "outputs": [],
      "source": [
        "\n",
        "#%run initialise.py"
      ]
    },
    {
      "cell_type": "markdown",
      "metadata": {
        "id": "TWAeNDIFmhzJ"
      },
      "source": [
        "#### 1. Import the numpy package under the name `np` (★☆☆)"
      ]
    },
    {
      "cell_type": "code",
      "execution_count": null,
      "metadata": {
        "id": "tN1o6E-WmhzM"
      },
      "outputs": [],
      "source": [
        "import numpy as np"
      ]
    },
    {
      "cell_type": "markdown",
      "metadata": {
        "id": "9w-OnPoVmhzN"
      },
      "source": [
        "#### 2. Print the numpy version and the configuration (★☆☆)"
      ]
    },
    {
      "cell_type": "code",
      "execution_count": null,
      "metadata": {
        "id": "lF1BsG1BmhzN",
        "outputId": "f99dd408-3431-4b86-e5dc-e54cb067944c",
        "colab": {
          "base_uri": "https://localhost:8080/"
        }
      },
      "outputs": [
        {
          "output_type": "stream",
          "name": "stdout",
          "text": [
            "1.23.5\n",
            "openblas64__info:\n",
            "    libraries = ['openblas64_', 'openblas64_']\n",
            "    library_dirs = ['/usr/local/lib']\n",
            "    language = c\n",
            "    define_macros = [('HAVE_CBLAS', None), ('BLAS_SYMBOL_SUFFIX', '64_'), ('HAVE_BLAS_ILP64', None)]\n",
            "    runtime_library_dirs = ['/usr/local/lib']\n",
            "blas_ilp64_opt_info:\n",
            "    libraries = ['openblas64_', 'openblas64_']\n",
            "    library_dirs = ['/usr/local/lib']\n",
            "    language = c\n",
            "    define_macros = [('HAVE_CBLAS', None), ('BLAS_SYMBOL_SUFFIX', '64_'), ('HAVE_BLAS_ILP64', None)]\n",
            "    runtime_library_dirs = ['/usr/local/lib']\n",
            "openblas64__lapack_info:\n",
            "    libraries = ['openblas64_', 'openblas64_']\n",
            "    library_dirs = ['/usr/local/lib']\n",
            "    language = c\n",
            "    define_macros = [('HAVE_CBLAS', None), ('BLAS_SYMBOL_SUFFIX', '64_'), ('HAVE_BLAS_ILP64', None), ('HAVE_LAPACKE', None)]\n",
            "    runtime_library_dirs = ['/usr/local/lib']\n",
            "lapack_ilp64_opt_info:\n",
            "    libraries = ['openblas64_', 'openblas64_']\n",
            "    library_dirs = ['/usr/local/lib']\n",
            "    language = c\n",
            "    define_macros = [('HAVE_CBLAS', None), ('BLAS_SYMBOL_SUFFIX', '64_'), ('HAVE_BLAS_ILP64', None), ('HAVE_LAPACKE', None)]\n",
            "    runtime_library_dirs = ['/usr/local/lib']\n",
            "Supported SIMD extensions in this NumPy install:\n",
            "    baseline = SSE,SSE2,SSE3\n",
            "    found = SSSE3,SSE41,POPCNT,SSE42,AVX,F16C,FMA3,AVX2\n",
            "    not found = AVX512F,AVX512CD,AVX512_KNL,AVX512_KNM,AVX512_SKX,AVX512_CLX,AVX512_CNL,AVX512_ICL\n"
          ]
        }
      ],
      "source": [
        "print(np.__version__)\n",
        "np.show_config()"
      ]
    },
    {
      "cell_type": "markdown",
      "metadata": {
        "id": "tPI5NGeomhzO"
      },
      "source": [
        "#### 3. Create a null vector of size 10 (★☆☆)"
      ]
    },
    {
      "cell_type": "code",
      "execution_count": null,
      "metadata": {
        "id": "P6wXZZLMmhzP",
        "outputId": "80bee88c-623a-490b-a2e2-51d55928fda4",
        "colab": {
          "base_uri": "https://localhost:8080/"
        }
      },
      "outputs": [
        {
          "output_type": "stream",
          "name": "stdout",
          "text": [
            "[0. 0. 0. 0. 0. 0. 0. 0. 0. 0.]\n"
          ]
        }
      ],
      "source": [
        "Z = np.zeros(10)\n",
        "print(Z)"
      ]
    },
    {
      "cell_type": "markdown",
      "metadata": {
        "id": "ICLhFl-mmhzQ"
      },
      "source": [
        "#### 4. How to find the memory size of any array (★☆☆)"
      ]
    },
    {
      "cell_type": "code",
      "execution_count": null,
      "metadata": {
        "id": "YRgDd5fDmhzQ",
        "outputId": "48a8dd13-6d82-4729-918f-b37b648c38c5",
        "colab": {
          "base_uri": "https://localhost:8080/"
        }
      },
      "outputs": [
        {
          "output_type": "stream",
          "name": "stdout",
          "text": [
            "800 bytes\n"
          ]
        }
      ],
      "source": [
        "Z = np.zeros((10,10))\n",
        "print(\"%d bytes\" % (Z.size * Z.itemsize))"
      ]
    },
    {
      "cell_type": "markdown",
      "metadata": {
        "id": "pT2X3OdemhzQ"
      },
      "source": [
        "#### 5. How to get the documentation of the numpy add function from the command line? (★☆☆)"
      ]
    },
    {
      "cell_type": "code",
      "execution_count": null,
      "metadata": {
        "id": "lkxme5PKmhzR",
        "colab": {
          "base_uri": "https://localhost:8080/"
        },
        "outputId": "8eefad95-b9ff-4f20-f7c1-ce77f8e3ce12"
      },
      "outputs": [
        {
          "output_type": "stream",
          "name": "stdout",
          "text": [
            "add(x1, x2, /, out=None, *, where=True, casting='same_kind', order='K', dtype=None, subok=True[, signature, extobj])\n",
            "\n",
            "Add arguments element-wise.\n",
            "\n",
            "Parameters\n",
            "----------\n",
            "x1, x2 : array_like\n",
            "    The arrays to be added.\n",
            "    If ``x1.shape != x2.shape``, they must be broadcastable to a common\n",
            "    shape (which becomes the shape of the output).\n",
            "out : ndarray, None, or tuple of ndarray and None, optional\n",
            "    A location into which the result is stored. If provided, it must have\n",
            "    a shape that the inputs broadcast to. If not provided or None,\n",
            "    a freshly-allocated array is returned. A tuple (possible only as a\n",
            "    keyword argument) must have length equal to the number of outputs.\n",
            "where : array_like, optional\n",
            "    This condition is broadcast over the input. At locations where the\n",
            "    condition is True, the `out` array will be set to the ufunc result.\n",
            "    Elsewhere, the `out` array will retain its original value.\n",
            "    Note that if an uninitialized `out` array is created via the default\n",
            "    ``out=None``, locations within it where the condition is False will\n",
            "    remain uninitialized.\n",
            "**kwargs\n",
            "    For other keyword-only arguments, see the\n",
            "    :ref:`ufunc docs <ufuncs.kwargs>`.\n",
            "\n",
            "Returns\n",
            "-------\n",
            "add : ndarray or scalar\n",
            "    The sum of `x1` and `x2`, element-wise.\n",
            "    This is a scalar if both `x1` and `x2` are scalars.\n",
            "\n",
            "Notes\n",
            "-----\n",
            "Equivalent to `x1` + `x2` in terms of array broadcasting.\n",
            "\n",
            "Examples\n",
            "--------\n",
            ">>> np.add(1.0, 4.0)\n",
            "5.0\n",
            ">>> x1 = np.arange(9.0).reshape((3, 3))\n",
            ">>> x2 = np.arange(3.0)\n",
            ">>> np.add(x1, x2)\n",
            "array([[  0.,   2.,   4.],\n",
            "       [  3.,   5.,   7.],\n",
            "       [  6.,   8.,  10.]])\n",
            "\n",
            "The ``+`` operator can be used as a shorthand for ``np.add`` on ndarrays.\n",
            "\n",
            ">>> x1 = np.arange(9.0).reshape((3, 3))\n",
            ">>> x2 = np.arange(3.0)\n",
            ">>> x1 + x2\n",
            "array([[ 0.,  2.,  4.],\n",
            "       [ 3.,  5.,  7.],\n",
            "       [ 6.,  8., 10.]])\n",
            "None\n"
          ]
        }
      ],
      "source": [
        "print(np.info(np. add))"
      ]
    },
    {
      "cell_type": "markdown",
      "metadata": {
        "id": "PUvOsJePmhzR"
      },
      "source": [
        "#### 6. Create a null vector of size 10 but the fifth value which is 1 (★☆☆)"
      ]
    },
    {
      "cell_type": "code",
      "execution_count": null,
      "metadata": {
        "id": "g6rWZC_JmhzR",
        "colab": {
          "base_uri": "https://localhost:8080/"
        },
        "outputId": "d1f574a5-0ad9-429b-f38e-5b2c7ac3a213"
      },
      "outputs": [
        {
          "output_type": "stream",
          "name": "stdout",
          "text": [
            "[0. 0. 0. 0. 1. 0. 0. 0. 0. 0.]\n"
          ]
        }
      ],
      "source": [
        "x1=np.zeros(10)\n",
        "x1[4]=1\n",
        "print (x1)"
      ]
    },
    {
      "cell_type": "markdown",
      "metadata": {
        "id": "l4yiWUQ8mhzR"
      },
      "source": [
        "#### 7. Create a vector with values ranging from 10 to 49 (★☆☆)"
      ]
    },
    {
      "cell_type": "code",
      "execution_count": null,
      "metadata": {
        "id": "UwwNazhzmhzR",
        "colab": {
          "base_uri": "https://localhost:8080/"
        },
        "outputId": "97f08fba-273d-4638-f33e-83931d19d005"
      },
      "outputs": [
        {
          "output_type": "stream",
          "name": "stdout",
          "text": [
            "[10 11 12 13 14 15 16 17 18 19 20 21 22 23 24 25 26 27 28 29 30 31 32 33\n",
            " 34 35 36 37 38 39 40 41 42 43 44 45 46 47 48]\n"
          ]
        }
      ],
      "source": [
        "x2=np.arange(10,49)\n",
        "print(x2)"
      ]
    },
    {
      "cell_type": "markdown",
      "metadata": {
        "id": "l0k0UU-zmhzR"
      },
      "source": [
        "#### 8. Reverse a vector (first element becomes last) (★☆☆)"
      ]
    },
    {
      "cell_type": "code",
      "execution_count": null,
      "metadata": {
        "id": "w-PRMvaYmhzS",
        "colab": {
          "base_uri": "https://localhost:8080/"
        },
        "outputId": "f3ab0f88-79fa-45f8-e76f-24f0b762cbba"
      },
      "outputs": [
        {
          "output_type": "stream",
          "name": "stdout",
          "text": [
            "[11 12 13 14 15 16 17 18 19 20 21 22 23 24 25 26 27 28 29 30 31 32 33 34\n",
            " 35 36 37 38 39 40 41 42 43 44 45 46 47 10]\n"
          ]
        }
      ],
      "source": [
        "x2[-1]=10\n",
        "print(x2[1:])"
      ]
    },
    {
      "cell_type": "markdown",
      "metadata": {
        "id": "2GIgdYr1mhzS"
      },
      "source": [
        "#### 9. Create a 3x3 matrix with values ranging from 0 to 8 (★☆☆)"
      ]
    },
    {
      "cell_type": "code",
      "execution_count": null,
      "metadata": {
        "id": "wcct3IlDmhzS",
        "colab": {
          "base_uri": "https://localhost:8080/"
        },
        "outputId": "f43edc5a-aeea-41a6-d616-c3485e9f3c56"
      },
      "outputs": [
        {
          "output_type": "stream",
          "name": "stdout",
          "text": [
            "[[0 1 2]\n",
            " [3 4 5]\n",
            " [6 7 8]]\n"
          ]
        }
      ],
      "source": [
        "x3 =  np.arange(0, 9).reshape(3,3)\n",
        "print(x3)"
      ]
    },
    {
      "cell_type": "markdown",
      "metadata": {
        "id": "L-C0ftqZmhzS"
      },
      "source": [
        "#### 10. Find indices of non-zero elements from [1,2,0,0,4,0] (★☆☆)"
      ]
    },
    {
      "cell_type": "code",
      "execution_count": null,
      "metadata": {
        "id": "dTNsdEtcmhzS",
        "colab": {
          "base_uri": "https://localhost:8080/"
        },
        "outputId": "eb32bfc3-9c53-414c-d704-93c0ed17406d"
      },
      "outputs": [
        {
          "output_type": "stream",
          "name": "stdout",
          "text": [
            "(array([0, 0, 0]), array([0, 1, 4]))\n"
          ]
        }
      ],
      "source": [
        "#doubt\n",
        "x4 = np.nonzero([[1,2,0,0,4,0]])\n",
        "print(x4)"
      ]
    },
    {
      "cell_type": "markdown",
      "metadata": {
        "id": "hcMKFbr-mhzS"
      },
      "source": [
        "#### 11. Create a 3x3 identity matrix (★☆☆)"
      ]
    },
    {
      "cell_type": "code",
      "execution_count": null,
      "metadata": {
        "id": "yfWKPrH7mhzS",
        "colab": {
          "base_uri": "https://localhost:8080/"
        },
        "outputId": "7618dbf2-a4b8-4524-d7ba-d36486e79754"
      },
      "outputs": [
        {
          "output_type": "execute_result",
          "data": {
            "text/plain": [
              "array([[1., 0., 0.],\n",
              "       [0., 1., 0.],\n",
              "       [0., 0., 1.]])"
            ]
          },
          "metadata": {},
          "execution_count": 117
        }
      ],
      "source": [
        "x5 = np.identity(3)\n",
        "x5"
      ]
    },
    {
      "cell_type": "markdown",
      "metadata": {
        "id": "JzBQ9KOomhzS"
      },
      "source": [
        "#### 12. Create a 3x3x3 array with random values (★☆☆)"
      ]
    },
    {
      "cell_type": "code",
      "execution_count": null,
      "metadata": {
        "id": "lZcBGC7XmhzS",
        "colab": {
          "base_uri": "https://localhost:8080/"
        },
        "outputId": "ef6cc1fd-df43-4b27-ef8e-564fc4a68704"
      },
      "outputs": [
        {
          "output_type": "execute_result",
          "data": {
            "text/plain": [
              "array([[[0.27713909, 0.58925208, 0.62600345],\n",
              "        [0.18955705, 0.09453013, 0.76645087],\n",
              "        [0.58308751, 0.59632364, 0.55947538]],\n",
              "\n",
              "       [[0.02057809, 0.90595743, 0.86068435],\n",
              "        [0.69382379, 0.08258386, 0.76057957],\n",
              "        [0.70579829, 0.37311135, 0.8222418 ]],\n",
              "\n",
              "       [[0.91549575, 0.08918621, 0.13388723],\n",
              "        [0.68587405, 0.69033839, 0.86117353],\n",
              "        [0.92552039, 0.71110831, 0.10263222]]])"
            ]
          },
          "metadata": {},
          "execution_count": 118
        }
      ],
      "source": [
        "x6=np.random.random((3,3,3))\n",
        "x6"
      ]
    },
    {
      "cell_type": "markdown",
      "metadata": {
        "id": "w3nawHkDmhzT"
      },
      "source": [
        "#### 13. Create a 10x10 array with random values and find the minimum and maximum values (★☆☆)"
      ]
    },
    {
      "cell_type": "code",
      "execution_count": null,
      "metadata": {
        "id": "pM4EcB9CmhzT",
        "colab": {
          "base_uri": "https://localhost:8080/"
        },
        "outputId": "704a9795-673f-4f31-b0c4-4905dcd60088"
      },
      "outputs": [
        {
          "output_type": "stream",
          "name": "stdout",
          "text": [
            "[[0.75445867 0.41345721 0.81760676 0.26308077 0.70914075 0.89410231\n",
            "  0.1110595  0.32968263 0.07467458 0.33521486]\n",
            " [0.34673638 0.50968233 0.73837953 0.60720463 0.22115953 0.66612821\n",
            "  0.45266127 0.34434026 0.50892291 0.23902248]\n",
            " [0.04514372 0.82804214 0.85910365 0.71110252 0.38274801 0.98269577\n",
            "  0.93032909 0.52666959 0.27372882 0.28630649]\n",
            " [0.13177976 0.5961057  0.25600345 0.64245478 0.83794761 0.40532616\n",
            "  0.24382924 0.91619168 0.59962155 0.56316784]\n",
            " [0.40323366 0.62812031 0.96827535 0.40693779 0.37646763 0.14426619\n",
            "  0.40593895 0.85229638 0.47106463 0.34318794]\n",
            " [0.59557898 0.67014477 0.97484185 0.34060636 0.51171403 0.54580725\n",
            "  0.9352738  0.90093804 0.72235269 0.44070974]\n",
            " [0.25883498 0.06421709 0.65998315 0.49363597 0.43222658 0.64563598\n",
            "  0.4458728  0.18538636 0.44497422 0.24345519]\n",
            " [0.300531   0.39428997 0.10907924 0.15030128 0.47159421 0.12538395\n",
            "  0.58110928 0.3131251  0.88009295 0.78930791]\n",
            " [0.71605897 0.49999932 0.06656316 0.56736458 0.93766879 0.89184357\n",
            "  0.8577557  0.94120373 0.76206773 0.10658392]\n",
            " [0.32466261 0.19718805 0.27233457 0.73172435 0.46256479 0.70442687\n",
            "  0.32190691 0.05003207 0.73700122 0.20386672]]\n",
            "Minimum Values:\n",
            "0.04514372285754942\n",
            "Maximum Values:\n",
            "0.982695768665074\n"
          ]
        }
      ],
      "source": [
        "x7 = np.random.random((10,10))\n",
        "print(x7)\n",
        "x7min = x7.min()\n",
        "x7max = x7.max()\n",
        "print(\"Minimum Values:\")\n",
        "print(x7min)\n",
        "print(\"Maximum Values:\")\n",
        "print(x7max)"
      ]
    },
    {
      "cell_type": "markdown",
      "metadata": {
        "id": "HnAj5VT5mhzT"
      },
      "source": [
        "#### 14. Create a random vector of size 30 and find the mean value (★☆☆)"
      ]
    },
    {
      "cell_type": "code",
      "execution_count": null,
      "metadata": {
        "id": "-R7Ej5dsmhzT",
        "colab": {
          "base_uri": "https://localhost:8080/"
        },
        "outputId": "6ad6ccca-dd4a-4eb3-ad3e-ebe768e5176a"
      },
      "outputs": [
        {
          "output_type": "stream",
          "name": "stdout",
          "text": [
            "Mean of this vector: 0.39987150604329164\n"
          ]
        }
      ],
      "source": [
        "x8=np.random.random(30)\n",
        "x8\n",
        "y1=x8.mean()\n",
        "print(\"Mean of this vector:\",y1)\n"
      ]
    },
    {
      "cell_type": "markdown",
      "metadata": {
        "id": "u50n1j47mhzT"
      },
      "source": [
        "#### 15. Create a 2d array with 1 on the border and 0 inside (★☆☆)"
      ]
    },
    {
      "cell_type": "code",
      "execution_count": null,
      "metadata": {
        "id": "OddFJ4cumhzT",
        "colab": {
          "base_uri": "https://localhost:8080/"
        },
        "outputId": "23df820e-35e9-46d7-9d69-b95333dbd7ec"
      },
      "outputs": [
        {
          "output_type": "execute_result",
          "data": {
            "text/plain": [
              "array([[1., 1., 1., 1., 1., 1., 1., 1., 1., 1.],\n",
              "       [1., 1., 1., 1., 1., 1., 1., 1., 1., 1.],\n",
              "       [1., 1., 1., 1., 1., 1., 1., 1., 1., 1.],\n",
              "       [1., 1., 1., 1., 1., 1., 1., 1., 1., 1.],\n",
              "       [1., 1., 1., 1., 1., 1., 1., 1., 1., 1.],\n",
              "       [1., 1., 1., 1., 1., 1., 1., 1., 1., 1.],\n",
              "       [1., 1., 1., 1., 1., 1., 1., 1., 1., 1.],\n",
              "       [1., 1., 1., 1., 1., 1., 1., 1., 1., 1.],\n",
              "       [1., 1., 1., 1., 1., 1., 1., 1., 1., 1.],\n",
              "       [1., 1., 1., 1., 1., 1., 1., 1., 1., 1.]])"
            ]
          },
          "metadata": {},
          "execution_count": 121
        }
      ],
      "source": [
        "#doubt\n",
        "x9=np.ones((10,10))\n",
        "x9[-1:1,1:-1]=0\n",
        "x9"
      ]
    },
    {
      "cell_type": "markdown",
      "metadata": {
        "id": "AoU5IQQUmhzT"
      },
      "source": [
        "#### 16. How to add a border (filled with 0's) around an existing array? (★☆☆)"
      ]
    },
    {
      "cell_type": "code",
      "execution_count": null,
      "metadata": {
        "id": "_ItQu7mcmhzT"
      },
      "outputs": [],
      "source": [
        "#doubt\n"
      ]
    },
    {
      "cell_type": "markdown",
      "metadata": {
        "id": "p38ETqRwmhzT"
      },
      "source": [
        "#### 17. What is the result of the following expression? (★☆☆)\n",
        "```python\n",
        "0 * np.nan\n",
        "np.nan == np.nan\n",
        "np.inf > np.nan\n",
        "np.nan - np.nan\n",
        "np.nan in set([np.nan])\n",
        "0.3 == 3 * 0.1\n",
        "```"
      ]
    },
    {
      "cell_type": "code",
      "execution_count": null,
      "metadata": {
        "id": "Rqr7T7s-mhzT",
        "colab": {
          "base_uri": "https://localhost:8080/"
        },
        "outputId": "8a1de9a2-6330-41bc-801d-89f684fdb9a0"
      },
      "outputs": [
        {
          "output_type": "execute_result",
          "data": {
            "text/plain": [
              "False"
            ]
          },
          "metadata": {},
          "execution_count": 123
        }
      ],
      "source": [
        "False"
      ]
    },
    {
      "cell_type": "markdown",
      "metadata": {
        "id": "lK_RU-H2mhzT"
      },
      "source": [
        "#### 18. Create a 5x5 matrix with values 1,2,3,4 just below the diagonal (★☆☆)"
      ]
    },
    {
      "cell_type": "code",
      "execution_count": null,
      "metadata": {
        "id": "45S3QI09mhzU",
        "colab": {
          "base_uri": "https://localhost:8080/"
        },
        "outputId": "63ceb6f8-5afb-4373-e720-033167fb0694"
      },
      "outputs": [
        {
          "output_type": "execute_result",
          "data": {
            "text/plain": [
              "array([[0, 0, 0, 0, 0],\n",
              "       [0, 1, 0, 0, 0],\n",
              "       [0, 0, 2, 0, 0],\n",
              "       [0, 0, 0, 3, 0],\n",
              "       [0, 0, 0, 0, 4]])"
            ]
          },
          "metadata": {},
          "execution_count": 124
        }
      ],
      "source": [
        "x10=np.diag([0,1,2,3,4])\n",
        "x10"
      ]
    },
    {
      "cell_type": "markdown",
      "metadata": {
        "id": "cxkFG0phmhzU"
      },
      "source": [
        "#### 19. Create a 8x8 matrix and fill it with a checkerboard pattern (★☆☆)"
      ]
    },
    {
      "cell_type": "code",
      "execution_count": null,
      "metadata": {
        "id": "H22b3hfZmhzU",
        "colab": {
          "base_uri": "https://localhost:8080/"
        },
        "outputId": "6b7b9cc2-87d1-4fa8-96d5-909d0ce1f36b"
      },
      "outputs": [
        {
          "output_type": "stream",
          "name": "stdout",
          "text": [
            "[[0 1 0 1 0 1 0 1]\n",
            " [1 0 1 0 1 0 1 0]\n",
            " [0 1 0 1 0 1 0 1]\n",
            " [1 0 1 0 1 0 1 0]\n",
            " [0 1 0 1 0 1 0 1]\n",
            " [1 0 1 0 1 0 1 0]\n",
            " [0 1 0 1 0 1 0 1]\n",
            " [1 0 1 0 1 0 1 0]]\n"
          ]
        }
      ],
      "source": [
        "x11=np.zeros((8,8),dtype=int)\n",
        "x11[1::2, ::2]= 1\n",
        "x11[::2, 1::2] = 1\n",
        "print (x11)"
      ]
    },
    {
      "cell_type": "markdown",
      "metadata": {
        "id": "3q9knP7tmhzZ"
      },
      "source": [
        "#### 20. Consider a (6,7,8) shape array, what is the index (x,y,z) of the 100th element?"
      ]
    },
    {
      "cell_type": "code",
      "execution_count": null,
      "metadata": {
        "id": "m9fPbfFKmhzZ"
      },
      "outputs": [],
      "source": []
    },
    {
      "cell_type": "markdown",
      "metadata": {
        "id": "3qiIqVp_mhzZ"
      },
      "source": [
        "#### 21. Create a checkerboard 8x8 matrix using the tile function (★☆☆)"
      ]
    },
    {
      "cell_type": "code",
      "execution_count": null,
      "metadata": {
        "id": "VPYcm5iGmhza",
        "colab": {
          "base_uri": "https://localhost:8080/"
        },
        "outputId": "7b435814-f111-46a2-9322-638c3ed439b4"
      },
      "outputs": [
        {
          "output_type": "stream",
          "name": "stdout",
          "text": [
            "[[0 1 0 1 0 1 0 1]\n",
            " [1 0 1 0 1 0 1 0]\n",
            " [0 1 0 1 0 1 0 1]\n",
            " [1 0 1 0 1 0 1 0]\n",
            " [0 1 0 1 0 1 0 1]\n",
            " [1 0 1 0 1 0 1 0]\n",
            " [0 1 0 1 0 1 0 1]\n",
            " [1 0 1 0 1 0 1 0]]\n"
          ]
        }
      ],
      "source": [
        "array= np.array([[0,1], [1,0]])\n",
        "Z = np.tile(array,(4,4))\n",
        "print (Z)"
      ]
    },
    {
      "cell_type": "markdown",
      "metadata": {
        "id": "ajWVjl9Smhza"
      },
      "source": [
        "#### 22. Normalize a 5x5 random matrix (★☆☆)"
      ]
    },
    {
      "cell_type": "code",
      "execution_count": null,
      "metadata": {
        "id": "HNtHl2P6mhza",
        "colab": {
          "base_uri": "https://localhost:8080/"
        },
        "outputId": "f1b94261-a348-48b1-f939-2495597518d3"
      },
      "outputs": [
        {
          "output_type": "stream",
          "name": "stdout",
          "text": [
            "[[0.5525345  0.44962572 1.         0.01974817 0.05511175]\n",
            " [0.78825816 0.40854447 0.30414336 0.66403818 0.53809419]\n",
            " [0.60001973 0.04679017 0.70489086 0.         0.21746034]\n",
            " [0.5906506  0.87013798 0.08456423 0.42663584 0.1754112 ]\n",
            " [0.74333897 0.48137702 0.30166865 0.3933663  0.17805746]]\n"
          ]
        }
      ],
      "source": [
        "x12=np.random.random((5,5))\n",
        "x12min,x12max =x12.min(),x12.max()\n",
        "x12 = (x12-x12min)/(x12max-x12min)\n",
        "print(x12)"
      ]
    },
    {
      "cell_type": "markdown",
      "metadata": {
        "id": "jfEgx4BImhza"
      },
      "source": [
        "#### 23. Create a custom dtype that describes a color as four unsigned bytes (RGBA) (★☆☆)"
      ]
    },
    {
      "cell_type": "code",
      "execution_count": null,
      "metadata": {
        "id": "ps2y6xyqmhzb",
        "colab": {
          "base_uri": "https://localhost:8080/"
        },
        "outputId": "31468ffb-4a6c-473f-ab28-f49ecbbac686"
      },
      "outputs": [
        {
          "output_type": "stream",
          "name": "stderr",
          "text": [
            "<ipython-input-128-b9f1a6f5df9c>:1: FutureWarning: Passing (type, 1) or '1type' as a synonym of type is deprecated; in a future version of numpy, it will be understood as (type, (1,)) / '(1,)type'.\n",
            "  color = np.dtype([(\"r\", np.ubyte, 1),\n"
          ]
        }
      ],
      "source": [
        "color = np.dtype([(\"r\", np.ubyte, 1),\n",
        "                  (\"g\", np.ubyte, 1),\n",
        "                  (\"b\", np.ubyte, 1),\n",
        "                  (\"a\", np.ubyte, 1)])"
      ]
    },
    {
      "cell_type": "markdown",
      "metadata": {
        "id": "WA7lpB6Fmhzb"
      },
      "source": [
        "#### 24. Multiply a 5x3 matrix by a 3x2 matrix (real matrix product) (★☆☆)"
      ]
    },
    {
      "cell_type": "code",
      "execution_count": null,
      "metadata": {
        "id": "qh9Kb3llmhzb",
        "colab": {
          "base_uri": "https://localhost:8080/"
        },
        "outputId": "71b36f13-9e40-4d03-8a40-5f199fd15233"
      },
      "outputs": [
        {
          "output_type": "stream",
          "name": "stdout",
          "text": [
            "[[3. 3.]\n",
            " [3. 3.]\n",
            " [3. 3.]\n",
            " [3. 3.]\n",
            " [3. 3.]]\n"
          ]
        }
      ],
      "source": [
        "x13=np.dot(np.ones((5,3)),np.ones((3,2)))\n",
        "print(x13)"
      ]
    },
    {
      "cell_type": "markdown",
      "metadata": {
        "id": "oXQODFIimhzb"
      },
      "source": [
        "#### 25. Given a 1D array, negate all elements which are between 3 and 8, in place. (★☆☆)"
      ]
    },
    {
      "cell_type": "code",
      "execution_count": null,
      "metadata": {
        "id": "CnhF0T-Hmhzb",
        "colab": {
          "base_uri": "https://localhost:8080/"
        },
        "outputId": "9ce5cf5c-6640-4553-c1b0-e2b82a4b76ef"
      },
      "outputs": [
        {
          "output_type": "stream",
          "name": "stdout",
          "text": [
            "[ 0  1  2  3 -4 -5 -6 -7 -8  9 10]\n"
          ]
        }
      ],
      "source": [
        "x14=np.arange(11)\n",
        "x14[(3<x14)&(x14<=8)]*=-1\n",
        "print(x14)"
      ]
    },
    {
      "cell_type": "markdown",
      "metadata": {
        "id": "Syy_dKZHmhzb"
      },
      "source": [
        "#### 26. What is the output of the following script? (★☆☆)\n",
        "```python\n",
        "# Author: Jake VanderPlas\n",
        "\n",
        "print(sum(range(5),-1))\n",
        "from numpy import *\n",
        "print(sum(range(5),-1))\n",
        "```"
      ]
    },
    {
      "cell_type": "code",
      "execution_count": null,
      "metadata": {
        "id": "QoSjcL61mhzc",
        "colab": {
          "base_uri": "https://localhost:8080/"
        },
        "outputId": "252ebc1b-e1b2-4434-c8f3-dfca6d1a7599"
      },
      "outputs": [
        {
          "output_type": "execute_result",
          "data": {
            "text/plain": [
              "10"
            ]
          },
          "metadata": {},
          "execution_count": 131
        }
      ],
      "source": [
        "9\n",
        "10"
      ]
    },
    {
      "cell_type": "markdown",
      "metadata": {
        "id": "qCXUL85Gmhzc"
      },
      "source": [
        "#### 27. Consider an integer vector Z, which of these expressions are legal? (★☆☆)\n",
        "```python\n",
        "Z**Z\n",
        "2 << Z >> 2\n",
        "Z <- Z\n",
        "1j*Z\n",
        "Z/1/1\n",
        "Z<Z>Z\n",
        "```"
      ]
    },
    {
      "cell_type": "code",
      "execution_count": null,
      "metadata": {
        "id": "ohy84wefmhzc"
      },
      "outputs": [],
      "source": []
    },
    {
      "cell_type": "markdown",
      "metadata": {
        "id": "JCooaby6mhzc"
      },
      "source": [
        "#### 28. What are the result of the following expressions?\n",
        "```python\n",
        "np.array(0) / np.array(0)\n",
        "np.array(0) // np.array(0)\n",
        "np.array([np.nan]).astype(int).astype(float)\n",
        "```"
      ]
    },
    {
      "cell_type": "code",
      "execution_count": null,
      "metadata": {
        "id": "S092bOycmhzc"
      },
      "outputs": [],
      "source": []
    },
    {
      "cell_type": "markdown",
      "metadata": {
        "id": "ExFfRjAnmhzd"
      },
      "source": [
        "#### 29. How to round away from zero a float array ? (★☆☆)"
      ]
    },
    {
      "cell_type": "code",
      "execution_count": null,
      "metadata": {
        "id": "DVhxeuB4mhzd",
        "colab": {
          "base_uri": "https://localhost:8080/"
        },
        "outputId": "208e42f9-cd6d-4fdb-e729-7038b2a83a06"
      },
      "outputs": [
        {
          "output_type": "stream",
          "name": "stdout",
          "text": [
            "[2. 2. 3. 4. 6.]\n"
          ]
        }
      ],
      "source": [
        "def round_array(x15,y):\n",
        "  return np.round(x15,y)\n",
        "test1= np.array([1.59,2,3.04,4,5.89])\n",
        "print(round_array(test1,0))"
      ]
    },
    {
      "cell_type": "markdown",
      "metadata": {
        "id": "wZvwVbS2mhzd"
      },
      "source": [
        "#### 30. How to find common values between two arrays? (★☆☆)"
      ]
    },
    {
      "cell_type": "code",
      "execution_count": null,
      "metadata": {
        "id": "UQCc7XPYmhzd",
        "colab": {
          "base_uri": "https://localhost:8080/"
        },
        "outputId": "944bc7b3-68c4-4c7b-8b2d-c4f0b5584af8"
      },
      "outputs": [
        {
          "output_type": "stream",
          "name": "stdout",
          "text": [
            "[0 4 6 7 8]\n"
          ]
        }
      ],
      "source": [
        "x16 = np.random.randint(0,10,10)\n",
        "x17 = np.random.randint(0,10,10)\n",
        "print(np.intersect1d(x16,x17))"
      ]
    },
    {
      "cell_type": "markdown",
      "metadata": {
        "id": "bsK13tNqmhzd"
      },
      "source": [
        "#### 31. How to ignore all numpy warnings (not recommended)? (★☆☆)"
      ]
    },
    {
      "cell_type": "code",
      "execution_count": null,
      "metadata": {
        "id": "keb0rRnhmhze"
      },
      "outputs": [],
      "source": []
    },
    {
      "cell_type": "markdown",
      "metadata": {
        "id": "Tt7wohWJmhze"
      },
      "source": [
        "#### 32. Is the following expressions true? (★☆☆)\n",
        "```python\n",
        "np.sqrt(-1) == np.emath.sqrt(-1)\n",
        "```"
      ]
    },
    {
      "cell_type": "code",
      "execution_count": null,
      "metadata": {
        "id": "HdyTs7Xymhze",
        "colab": {
          "base_uri": "https://localhost:8080/"
        },
        "outputId": "e5212cf3-c717-434a-9704-c74c25f030b0"
      },
      "outputs": [
        {
          "output_type": "execute_result",
          "data": {
            "text/plain": [
              "False"
            ]
          },
          "metadata": {},
          "execution_count": 134
        }
      ],
      "source": [
        "False"
      ]
    },
    {
      "cell_type": "markdown",
      "metadata": {
        "id": "FLbz2Z27mhze"
      },
      "source": [
        "#### 33. How to get the dates of yesterday, today and tomorrow? (★☆☆)"
      ]
    },
    {
      "cell_type": "code",
      "execution_count": null,
      "metadata": {
        "id": "QSX82Cs_mhze",
        "colab": {
          "base_uri": "https://localhost:8080/"
        },
        "outputId": "fa53b81d-a1e8-4f0c-e5db-4ee6dd2cbc42"
      },
      "outputs": [
        {
          "output_type": "stream",
          "name": "stdout",
          "text": [
            "2023-09-21\n",
            "2023-09-22\n",
            "2023-09-23\n"
          ]
        }
      ],
      "source": [
        "yesterday = np.datetime64('today', 'D') - np.timedelta64(1, 'D')\n",
        "print(yesterday)\n",
        "today     = np.datetime64('today', 'D')\n",
        "print(today)\n",
        "tomorrow  = np.datetime64('today', 'D') + np.timedelta64(1, 'D')\n",
        "print(tomorrow)"
      ]
    },
    {
      "cell_type": "markdown",
      "metadata": {
        "id": "D-nW7y9Wmhze"
      },
      "source": [
        "#### 34. How to get all the dates corresponding to the month of July 2016? (★★☆)"
      ]
    },
    {
      "cell_type": "code",
      "execution_count": null,
      "metadata": {
        "id": "1FrDPjy_mhze",
        "colab": {
          "base_uri": "https://localhost:8080/"
        },
        "outputId": "f6086628-0cd8-4482-ab6d-cef22ddfd475"
      },
      "outputs": [
        {
          "output_type": "execute_result",
          "data": {
            "text/plain": [
              "array(['2016-07-01', '2016-07-02', '2016-07-03', '2016-07-04',\n",
              "       '2016-07-05', '2016-07-06', '2016-07-07', '2016-07-08',\n",
              "       '2016-07-09', '2016-07-10', '2016-07-11', '2016-07-12',\n",
              "       '2016-07-13', '2016-07-14', '2016-07-15', '2016-07-16',\n",
              "       '2016-07-17', '2016-07-18', '2016-07-19', '2016-07-20',\n",
              "       '2016-07-21', '2016-07-22', '2016-07-23', '2016-07-24',\n",
              "       '2016-07-25', '2016-07-26', '2016-07-27', '2016-07-28',\n",
              "       '2016-07-29', '2016-07-30', '2016-07-31'], dtype='datetime64[D]')"
            ]
          },
          "metadata": {},
          "execution_count": 136
        }
      ],
      "source": [
        "x18=np.arange('2016-07','2016-08' , dtype='datetime64[D]')\n",
        "x18"
      ]
    },
    {
      "cell_type": "markdown",
      "metadata": {
        "id": "cNhW6L89mhze"
      },
      "source": [
        "#### 35. How to compute ((A+B)*(-A/2)) in place (without copy)? (★★☆)"
      ]
    },
    {
      "cell_type": "code",
      "execution_count": null,
      "metadata": {
        "id": "7JKGe4hYmhze",
        "colab": {
          "base_uri": "https://localhost:8080/"
        },
        "outputId": "e847d6b5-f094-4a09-f88a-5d8348955ece"
      },
      "outputs": [
        {
          "output_type": "execute_result",
          "data": {
            "text/plain": [
              "array([-1.5, -1.5, -1.5])"
            ]
          },
          "metadata": {},
          "execution_count": 137
        }
      ],
      "source": [
        "A = np.ones(3)*1\n",
        "B = np.ones(3)*2\n",
        "C = np.ones(3)*3\n",
        "np.add(A,B,out=B)\n",
        "np.divide(A,2,out=A)\n",
        "np.negative(A,out=A)\n",
        "np.multiply(A,B,out=A)"
      ]
    },
    {
      "cell_type": "markdown",
      "metadata": {
        "id": "iXSxkhHxmhzf"
      },
      "source": [
        "#### 36. Extract the integer part of a random array using 5 different methods (★★☆)"
      ]
    },
    {
      "cell_type": "code",
      "execution_count": null,
      "metadata": {
        "id": "PiD8emVqmhzf",
        "colab": {
          "base_uri": "https://localhost:8080/"
        },
        "outputId": "7a1ebb29-a155-4250-f30b-3311933af6b7"
      },
      "outputs": [
        {
          "output_type": "stream",
          "name": "stdout",
          "text": [
            "[3. 2. 3. 3. 7. 4. 9. 4. 5. 2.]\n",
            "[3. 2. 3. 3. 7. 4. 9. 4. 5. 2.]\n",
            "[3. 2. 3. 3. 7. 4. 9. 4. 5. 2.]\n",
            "[3 2 3 3 7 4 9 4 5 2]\n",
            "[3. 2. 3. 3. 7. 4. 9. 4. 5. 2.]\n"
          ]
        }
      ],
      "source": [
        "a = np.random.uniform(0,10,10)\n",
        "print(a -a%1)\n",
        "print(np.floor(a))\n",
        "print(np.ceil(a)-1)\n",
        "print(a.astype(int))\n",
        "print(np.trunc(a))"
      ]
    },
    {
      "cell_type": "markdown",
      "metadata": {
        "id": "F2uL1eZImhzf"
      },
      "source": [
        "#### 37. Create a 5x5 matrix with row values ranging from 0 to 4 (★★☆)"
      ]
    },
    {
      "cell_type": "code",
      "execution_count": null,
      "metadata": {
        "id": "sEUhqdcMmhzf",
        "colab": {
          "base_uri": "https://localhost:8080/"
        },
        "outputId": "703b766e-e20e-4716-f959-6bda0ef6a35e"
      },
      "outputs": [
        {
          "output_type": "stream",
          "name": "stdout",
          "text": [
            "[[0. 1. 2. 3. 4.]\n",
            " [0. 1. 2. 3. 4.]\n",
            " [0. 1. 2. 3. 4.]\n",
            " [0. 1. 2. 3. 4.]\n",
            " [0. 1. 2. 3. 4.]]\n"
          ]
        }
      ],
      "source": [
        "x19=np.zeros((5,5))\n",
        "x19+=np.arange(5)\n",
        "print(x19)"
      ]
    },
    {
      "cell_type": "markdown",
      "metadata": {
        "id": "shs6yFxumhzf"
      },
      "source": [
        "#### 38. Consider a generator function that generates 10 integers and use it to build an array (★☆☆)"
      ]
    },
    {
      "cell_type": "code",
      "execution_count": null,
      "metadata": {
        "id": "N3Iboygymhzf",
        "colab": {
          "base_uri": "https://localhost:8080/"
        },
        "outputId": "b1fc8e4a-dc17-461c-f04c-e76f2b35c83e"
      },
      "outputs": [
        {
          "output_type": "stream",
          "name": "stdout",
          "text": [
            "[0. 1. 2. 3. 4. 5. 6. 7. 8. 9.]\n"
          ]
        }
      ],
      "source": [
        "def generate():\n",
        "    for x in range(10):\n",
        "        yield x\n",
        "Z = np.fromiter(generate(),dtype=float,count=-1)\n",
        "print(Z)"
      ]
    },
    {
      "cell_type": "markdown",
      "metadata": {
        "id": "hAKc6Qefmhzg"
      },
      "source": [
        "#### 39. Create a vector of size 10 with values ranging from 0 to 1, both excluded (★★☆)"
      ]
    },
    {
      "cell_type": "code",
      "execution_count": null,
      "metadata": {
        "id": "ssSW5LInmhzg",
        "colab": {
          "base_uri": "https://localhost:8080/"
        },
        "outputId": "c2ab1450-97eb-4674-ca90-22a8d64f4b9f"
      },
      "outputs": [
        {
          "output_type": "stream",
          "name": "stdout",
          "text": [
            "[0.09090909 0.18181818 0.27272727 0.36363636 0.45454545 0.54545455\n",
            " 0.63636364 0.72727273 0.81818182 0.90909091]\n"
          ]
        }
      ],
      "source": [
        "Z = np.linspace(0,1,11,endpoint=False)[1:]\n",
        "print(Z)"
      ]
    },
    {
      "cell_type": "markdown",
      "metadata": {
        "id": "fogowZbomhzg"
      },
      "source": [
        "#### 40. Create a random vector of size 10 and sort it (★★☆)"
      ]
    },
    {
      "cell_type": "code",
      "execution_count": null,
      "metadata": {
        "id": "FpudsGhHmhzg",
        "colab": {
          "base_uri": "https://localhost:8080/"
        },
        "outputId": "dc0c849b-e45b-4acb-aa6c-60d5473159b3"
      },
      "outputs": [
        {
          "output_type": "execute_result",
          "data": {
            "text/plain": [
              "array([0.06295997, 0.10165235, 0.14474328, 0.15672987, 0.21128822,\n",
              "       0.29803373, 0.30094788, 0.56487041, 0.59836751, 0.60898551])"
            ]
          },
          "metadata": {},
          "execution_count": 142
        }
      ],
      "source": [
        "x20 = np.random.random(10)\n",
        "x20.sort()\n",
        "x20"
      ]
    },
    {
      "cell_type": "markdown",
      "metadata": {
        "id": "MMKPOsoZmhzg"
      },
      "source": [
        "#### 41. How to sum a small array faster than np.sum? (★★☆)"
      ]
    },
    {
      "cell_type": "code",
      "execution_count": null,
      "metadata": {
        "id": "DRMHRuDBmhzg",
        "colab": {
          "base_uri": "https://localhost:8080/"
        },
        "outputId": "444c7903-e4b2-4700-cff5-ceb623676a8f"
      },
      "outputs": [
        {
          "output_type": "execute_result",
          "data": {
            "text/plain": [
              "array([0, 1, 2, 3, 4, 5, 6, 7, 8, 9])"
            ]
          },
          "metadata": {},
          "execution_count": 143
        }
      ],
      "source": [
        "x21=np.arange(10)\n",
        "np.add.reduce(x21)\n",
        "x21"
      ]
    },
    {
      "cell_type": "markdown",
      "metadata": {
        "id": "P8eg7Twmmhzh"
      },
      "source": [
        "#### 42. Consider two random array A and B, check if they are equal (★★☆)"
      ]
    },
    {
      "cell_type": "code",
      "execution_count": null,
      "metadata": {
        "id": "-t8F06p7mhzh",
        "colab": {
          "base_uri": "https://localhost:8080/"
        },
        "outputId": "fcddbabe-1ca9-470a-e0d1-09645c952e97"
      },
      "outputs": [
        {
          "output_type": "stream",
          "name": "stdout",
          "text": [
            "False\n",
            "False\n"
          ]
        }
      ],
      "source": [
        "A = np.random.randint(0,2,5)\n",
        "B = np.random.randint(0,2,5)\n",
        "\n",
        "\n",
        "equal = np.allclose(A,B)\n",
        "print(equal)\n",
        "\n",
        "\n",
        "equal = np.array_equal(A,B)\n",
        "print(equal)"
      ]
    },
    {
      "cell_type": "markdown",
      "metadata": {
        "id": "L5Ofsos1mhzh"
      },
      "source": [
        "#### 43. Make an array immutable (read-only) (★★☆)"
      ]
    },
    {
      "cell_type": "code",
      "execution_count": null,
      "metadata": {
        "id": "td6V-Z4wmhzh",
        "colab": {
          "base_uri": "https://localhost:8080/",
          "height": 210
        },
        "outputId": "19afebae-05eb-4e63-dade-ea1183961c87"
      },
      "outputs": [
        {
          "output_type": "error",
          "ename": "ValueError",
          "evalue": "ignored",
          "traceback": [
            "\u001b[0;31m---------------------------------------------------------------------------\u001b[0m",
            "\u001b[0;31mValueError\u001b[0m                                Traceback (most recent call last)",
            "\u001b[0;32m<ipython-input-145-3edb2c02a6de>\u001b[0m in \u001b[0;36m<cell line: 3>\u001b[0;34m()\u001b[0m\n\u001b[1;32m      1\u001b[0m \u001b[0mx22\u001b[0m \u001b[0;34m=\u001b[0m\u001b[0mnp\u001b[0m\u001b[0;34m.\u001b[0m\u001b[0mzeros\u001b[0m\u001b[0;34m(\u001b[0m\u001b[0;36m10\u001b[0m\u001b[0;34m)\u001b[0m\u001b[0;34m\u001b[0m\u001b[0;34m\u001b[0m\u001b[0m\n\u001b[1;32m      2\u001b[0m \u001b[0mx22\u001b[0m\u001b[0;34m.\u001b[0m\u001b[0mflags\u001b[0m\u001b[0;34m.\u001b[0m\u001b[0mwriteable\u001b[0m\u001b[0;34m=\u001b[0m\u001b[0;32mFalse\u001b[0m\u001b[0;34m\u001b[0m\u001b[0;34m\u001b[0m\u001b[0m\n\u001b[0;32m----> 3\u001b[0;31m \u001b[0mx22\u001b[0m\u001b[0;34m[\u001b[0m\u001b[0;36m0\u001b[0m\u001b[0;34m]\u001b[0m\u001b[0;34m=\u001b[0m\u001b[0;36m1\u001b[0m\u001b[0;34m\u001b[0m\u001b[0;34m\u001b[0m\u001b[0m\n\u001b[0m",
            "\u001b[0;31mValueError\u001b[0m: assignment destination is read-only"
          ]
        }
      ],
      "source": [
        "x22 =np.zeros(10)\n",
        "x22.flags.writeable=False\n",
        "x22[0]=1"
      ]
    },
    {
      "cell_type": "markdown",
      "metadata": {
        "id": "Tnglfv8emhzh"
      },
      "source": [
        "#### 44. Consider a random 10x2 matrix representing cartesian coordinates, convert them to polar coordinates (★★☆)"
      ]
    },
    {
      "cell_type": "code",
      "execution_count": null,
      "metadata": {
        "id": "nkXc6N6bmhzh",
        "colab": {
          "base_uri": "https://localhost:8080/"
        },
        "outputId": "18dc2844-d18e-441c-cd80-92ee34acf600"
      },
      "outputs": [
        {
          "output_type": "stream",
          "name": "stdout",
          "text": [
            "[0.85939332 0.99204173 0.53079806 0.511828   0.99074197 0.33426685\n",
            " 0.10293833 0.702136   0.12910039 0.94396498]\n",
            "[1.11313955 0.17883024 1.11597339 0.50043317 0.96175361 0.6542145\n",
            " 1.4225797  1.26462585 0.70863253 0.89753259]\n"
          ]
        }
      ],
      "source": [
        "Z = np.random.random((10,2))\n",
        "X,Y = Z[:,0], Z[:,1]\n",
        "R = np.sqrt(X**2+Y**2)\n",
        "T = np.arctan2(Y,X)\n",
        "print(R)\n",
        "print(T)"
      ]
    },
    {
      "cell_type": "markdown",
      "metadata": {
        "id": "jhNx9RGbmhzh"
      },
      "source": [
        "#### 45. Create random vector of size 10 and replace the maximum value by 0 (★★☆)"
      ]
    },
    {
      "cell_type": "code",
      "execution_count": null,
      "metadata": {
        "id": "VNTJfbfimhzh",
        "colab": {
          "base_uri": "https://localhost:8080/"
        },
        "outputId": "74801827-16a1-4a6a-bee8-f8fdbeb7e25c"
      },
      "outputs": [
        {
          "output_type": "stream",
          "name": "stdout",
          "text": [
            "[0.82659096 0.0202565  0.38487138 0.0373681  0.         0.15447348\n",
            " 0.39100497 0.78864403 0.58020499 0.49019986]\n"
          ]
        }
      ],
      "source": [
        "Z = np.random.random(10)\n",
        "Z[Z.argmax()] = 0\n",
        "print(Z)"
      ]
    },
    {
      "cell_type": "markdown",
      "metadata": {
        "id": "XrnXxH09mhzh"
      },
      "source": [
        "#### 46. Create a structured array with `x` and `y` coordinates covering the [0,1]x[0,1] area (★★☆)"
      ]
    },
    {
      "cell_type": "code",
      "execution_count": null,
      "metadata": {
        "id": "7eElRPNkmhzi",
        "colab": {
          "base_uri": "https://localhost:8080/"
        },
        "outputId": "9c7618d3-7fc0-4491-ae89-da5870f70b5c"
      },
      "outputs": [
        {
          "output_type": "stream",
          "name": "stdout",
          "text": [
            "[[(0.  , 0.  ) (0.25, 0.  ) (0.5 , 0.  ) (0.75, 0.  ) (1.  , 0.  )]\n",
            " [(0.  , 0.25) (0.25, 0.25) (0.5 , 0.25) (0.75, 0.25) (1.  , 0.25)]\n",
            " [(0.  , 0.5 ) (0.25, 0.5 ) (0.5 , 0.5 ) (0.75, 0.5 ) (1.  , 0.5 )]\n",
            " [(0.  , 0.75) (0.25, 0.75) (0.5 , 0.75) (0.75, 0.75) (1.  , 0.75)]\n",
            " [(0.  , 1.  ) (0.25, 1.  ) (0.5 , 1.  ) (0.75, 1.  ) (1.  , 1.  )]]\n"
          ]
        }
      ],
      "source": [
        "Z = np.zeros((5,5), [('x',float),('y',float)])\n",
        "Z['x'], Z['y'] = np.meshgrid(np.linspace(0,1,5),\n",
        "                             np.linspace(0,1,5))\n",
        "print(Z)"
      ]
    },
    {
      "cell_type": "markdown",
      "metadata": {
        "id": "jleoIuj2mhzi"
      },
      "source": [
        "#### 47. Given two arrays, X and Y, construct the Cauchy matrix C (Cij =1/(xi - yj))"
      ]
    },
    {
      "cell_type": "code",
      "execution_count": null,
      "metadata": {
        "id": "5p-XQFvpmhzi",
        "colab": {
          "base_uri": "https://localhost:8080/"
        },
        "outputId": "993d701a-3d30-4d10-c2e9-594cf3d2c3c9"
      },
      "outputs": [
        {
          "output_type": "stream",
          "name": "stdout",
          "text": [
            "3638.163637117973\n"
          ]
        }
      ],
      "source": [
        "X = np.arange(8)\n",
        "Y = X + 0.5\n",
        "C = 1.0 / np.subtract.outer(X, Y)\n",
        "print(np.linalg.det(C))\n"
      ]
    },
    {
      "cell_type": "markdown",
      "metadata": {
        "id": "R4SqVoRJmhzi"
      },
      "source": [
        "#### 48. Print the minimum and maximum representable value for each numpy scalar type (★★☆)"
      ]
    },
    {
      "cell_type": "code",
      "execution_count": null,
      "metadata": {
        "id": "ZXGkzHbRmhzi",
        "colab": {
          "base_uri": "https://localhost:8080/"
        },
        "outputId": "227613f1-38eb-46b0-81d4-44ab993b699b"
      },
      "outputs": [
        {
          "output_type": "stream",
          "name": "stdout",
          "text": [
            "-128\n",
            "127\n",
            "-2147483648\n",
            "2147483647\n",
            "-9223372036854775808\n",
            "9223372036854775807\n",
            "-3.4028235e+38\n",
            "3.4028235e+38\n",
            "1.1920929e-07\n",
            "-1.7976931348623157e+308\n",
            "1.7976931348623157e+308\n",
            "2.220446049250313e-16\n"
          ]
        }
      ],
      "source": [
        "for dtype in [np.int8, np.int32, np.int64]:\n",
        "   print(np.iinfo(dtype).min)\n",
        "   print(np.iinfo(dtype).max)\n",
        "for dtype in [np.float32, np.float64]:\n",
        "   print(np.finfo(dtype).min)\n",
        "   print(np.finfo(dtype).max)\n",
        "   print(np.finfo(dtype).eps)"
      ]
    },
    {
      "cell_type": "markdown",
      "metadata": {
        "id": "j-gPdslemhzi"
      },
      "source": [
        "#### 49. How to print all the values of an array? (★★☆)"
      ]
    },
    {
      "cell_type": "code",
      "execution_count": null,
      "metadata": {
        "id": "ShOsODvjmhzi",
        "colab": {
          "base_uri": "https://localhost:8080/",
          "height": 373
        },
        "outputId": "3fda663a-ef5c-45b2-ead4-ec45c08606e0"
      },
      "outputs": [
        {
          "output_type": "error",
          "ename": "ValueError",
          "evalue": "ignored",
          "traceback": [
            "\u001b[0;31m---------------------------------------------------------------------------\u001b[0m",
            "\u001b[0;31mValueError\u001b[0m                                Traceback (most recent call last)",
            "\u001b[0;32m<ipython-input-152-8e6bd600a6bc>\u001b[0m in \u001b[0;36m<cell line: 1>\u001b[0;34m()\u001b[0m\n\u001b[0;32m----> 1\u001b[0;31m \u001b[0mnp\u001b[0m\u001b[0;34m.\u001b[0m\u001b[0mset_printoptions\u001b[0m\u001b[0;34m(\u001b[0m\u001b[0mthreshold\u001b[0m\u001b[0;34m=\u001b[0m\u001b[0mnp\u001b[0m\u001b[0;34m.\u001b[0m\u001b[0mnan\u001b[0m\u001b[0;34m)\u001b[0m\u001b[0;34m\u001b[0m\u001b[0;34m\u001b[0m\u001b[0m\n\u001b[0m\u001b[1;32m      2\u001b[0m \u001b[0mZ\u001b[0m \u001b[0;34m=\u001b[0m \u001b[0mnp\u001b[0m\u001b[0;34m.\u001b[0m\u001b[0mzeros\u001b[0m\u001b[0;34m(\u001b[0m\u001b[0;34m(\u001b[0m\u001b[0;36m16\u001b[0m\u001b[0;34m,\u001b[0m\u001b[0;36m16\u001b[0m\u001b[0;34m)\u001b[0m\u001b[0;34m)\u001b[0m\u001b[0;34m\u001b[0m\u001b[0;34m\u001b[0m\u001b[0m\n\u001b[1;32m      3\u001b[0m \u001b[0mprint\u001b[0m\u001b[0;34m(\u001b[0m\u001b[0mZ\u001b[0m\u001b[0;34m)\u001b[0m\u001b[0;34m\u001b[0m\u001b[0;34m\u001b[0m\u001b[0m\n",
            "\u001b[0;32m/usr/local/lib/python3.10/dist-packages/numpy/core/arrayprint.py\u001b[0m in \u001b[0;36mset_printoptions\u001b[0;34m(precision, threshold, edgeitems, linewidth, suppress, nanstr, infstr, formatter, sign, floatmode, legacy)\u001b[0m\n\u001b[1;32m    275\u001b[0m \u001b[0;34m\u001b[0m\u001b[0m\n\u001b[1;32m    276\u001b[0m     \"\"\"\n\u001b[0;32m--> 277\u001b[0;31m     opt = _make_options_dict(precision, threshold, edgeitems, linewidth,\n\u001b[0m\u001b[1;32m    278\u001b[0m                              \u001b[0msuppress\u001b[0m\u001b[0;34m,\u001b[0m \u001b[0mnanstr\u001b[0m\u001b[0;34m,\u001b[0m \u001b[0minfstr\u001b[0m\u001b[0;34m,\u001b[0m \u001b[0msign\u001b[0m\u001b[0;34m,\u001b[0m \u001b[0mformatter\u001b[0m\u001b[0;34m,\u001b[0m\u001b[0;34m\u001b[0m\u001b[0;34m\u001b[0m\u001b[0m\n\u001b[1;32m    279\u001b[0m                              floatmode, legacy)\n",
            "\u001b[0;32m/usr/local/lib/python3.10/dist-packages/numpy/core/arrayprint.py\u001b[0m in \u001b[0;36m_make_options_dict\u001b[0;34m(precision, threshold, edgeitems, linewidth, suppress, nanstr, infstr, sign, formatter, floatmode, legacy)\u001b[0m\n\u001b[1;32m    101\u001b[0m             \u001b[0;32mraise\u001b[0m \u001b[0mTypeError\u001b[0m\u001b[0;34m(\u001b[0m\u001b[0;34m\"threshold must be numeric\"\u001b[0m\u001b[0;34m)\u001b[0m\u001b[0;34m\u001b[0m\u001b[0;34m\u001b[0m\u001b[0m\n\u001b[1;32m    102\u001b[0m         \u001b[0;32mif\u001b[0m \u001b[0mnp\u001b[0m\u001b[0;34m.\u001b[0m\u001b[0misnan\u001b[0m\u001b[0;34m(\u001b[0m\u001b[0mthreshold\u001b[0m\u001b[0;34m)\u001b[0m\u001b[0;34m:\u001b[0m\u001b[0;34m\u001b[0m\u001b[0;34m\u001b[0m\u001b[0m\n\u001b[0;32m--> 103\u001b[0;31m             raise ValueError(\"threshold must be non-NAN, try \"\n\u001b[0m\u001b[1;32m    104\u001b[0m                              \"sys.maxsize for untruncated representation\")\n\u001b[1;32m    105\u001b[0m \u001b[0;34m\u001b[0m\u001b[0m\n",
            "\u001b[0;31mValueError\u001b[0m: threshold must be non-NAN, try sys.maxsize for untruncated representation"
          ]
        }
      ],
      "source": [
        "np.set_printoptions(threshold=np.nan)\n",
        "Z = np.zeros((16,16))\n",
        "print(Z)"
      ]
    },
    {
      "cell_type": "markdown",
      "metadata": {
        "id": "cbXFiTsamhzi"
      },
      "source": [
        "#### 50. How to find the closest value (to a given scalar) in a vector? (★★☆)"
      ]
    },
    {
      "cell_type": "code",
      "execution_count": null,
      "metadata": {
        "id": "tQIf1ADPmhzi",
        "colab": {
          "base_uri": "https://localhost:8080/"
        },
        "outputId": "65487c13-aace-40ee-b9de-9757621fda2b"
      },
      "outputs": [
        {
          "output_type": "stream",
          "name": "stdout",
          "text": [
            "29\n"
          ]
        }
      ],
      "source": [
        "Z = np.arange(100)\n",
        "v = np.random.uniform(0,100)\n",
        "index = (np.abs(Z-v)).argmin()\n",
        "print(Z[index])"
      ]
    },
    {
      "cell_type": "markdown",
      "metadata": {
        "id": "5yPV80AFmhzi"
      },
      "source": [
        "#### 51. Create a structured array representing a position (x,y) and a color (r,g,b) (★★☆)"
      ]
    },
    {
      "cell_type": "code",
      "execution_count": null,
      "metadata": {
        "id": "GOa1r-_xmhzj",
        "colab": {
          "base_uri": "https://localhost:8080/"
        },
        "outputId": "c5aaadbe-bd4e-47c7-e948-cd0a30bbb9f9"
      },
      "outputs": [
        {
          "output_type": "stream",
          "name": "stdout",
          "text": [
            "[((0., 0.), (0., 0., 0.)) ((0., 0.), (0., 0., 0.))\n",
            " ((0., 0.), (0., 0., 0.)) ((0., 0.), (0., 0., 0.))\n",
            " ((0., 0.), (0., 0., 0.)) ((0., 0.), (0., 0., 0.))\n",
            " ((0., 0.), (0., 0., 0.)) ((0., 0.), (0., 0., 0.))\n",
            " ((0., 0.), (0., 0., 0.)) ((0., 0.), (0., 0., 0.))]\n"
          ]
        },
        {
          "output_type": "stream",
          "name": "stderr",
          "text": [
            "<ipython-input-153-6f1aa4d7a2ff>:1: FutureWarning: Passing (type, 1) or '1type' as a synonym of type is deprecated; in a future version of numpy, it will be understood as (type, (1,)) / '(1,)type'.\n",
            "  Z = np.zeros(10, [ ('position', [ ('x', float, 1),\n"
          ]
        }
      ],
      "source": [
        "Z = np.zeros(10, [ ('position', [ ('x', float, 1),\n",
        "                                  ('y', float, 1)]),\n",
        "                   ('color',    [ ('r', float, 1),\n",
        "                                  ('g', float, 1),\n",
        "                                  ('b', float, 1)])])\n",
        "print(Z)"
      ]
    },
    {
      "cell_type": "markdown",
      "metadata": {
        "id": "wUz5OTxlmhzj"
      },
      "source": [
        "#### 52. Consider a random vector with shape (100,2) representing coordinates, find point by point distances (★★☆)"
      ]
    },
    {
      "cell_type": "code",
      "execution_count": null,
      "metadata": {
        "id": "aaQMoU1Amhzj",
        "colab": {
          "base_uri": "https://localhost:8080/"
        },
        "outputId": "c01593ee-79d2-402e-9535-5ce5e89234c4"
      },
      "outputs": [
        {
          "output_type": "stream",
          "name": "stdout",
          "text": [
            "[[0.         0.17503007 0.20728128 0.54192394 0.3977015  0.24778345\n",
            "  0.66125578 0.2903499  0.21991784 0.17961404]\n",
            " [0.17503007 0.         0.38058831 0.70355529 0.25204408 0.1220517\n",
            "  0.57410936 0.13058835 0.16503111 0.3514308 ]\n",
            " [0.20728128 0.38058831 0.         0.39594435 0.57721407 0.43029509\n",
            "  0.77419542 0.48471472 0.40534917 0.09224215]\n",
            " [0.54192394 0.70355529 0.39594435 0.         0.93962541 0.78966147\n",
            "  1.16921924 0.82924337 0.63969729 0.36673586]\n",
            " [0.3977015  0.25204408 0.57721407 0.93962541 0.         0.15010157\n",
            "  0.35872443 0.12330136 0.396449   0.57526993]\n",
            " [0.24778345 0.1220517  0.43029509 0.78966147 0.15010157 0.\n",
            "  0.45207054 0.06890686 0.28546123 0.42519943]\n",
            " [0.66125578 0.57410936 0.77419542 1.16921924 0.35872443 0.45207054\n",
            "  0.         0.46658958 0.73581583 0.81057036]\n",
            " [0.2903499  0.13058835 0.48471472 0.82924337 0.12330136 0.06890686\n",
            "  0.46658958 0.         0.27463586 0.46996337]\n",
            " [0.21991784 0.16503111 0.40534917 0.63969729 0.396449   0.28546123\n",
            "  0.73581583 0.27463586 0.         0.34097123]\n",
            " [0.17961404 0.3514308  0.09224215 0.36673586 0.57526993 0.42519943\n",
            "  0.81057036 0.46996337 0.34097123 0.        ]]\n",
            "[[0.         0.79827042 0.10108342 0.19322797 0.72544905 0.35384284\n",
            "  0.77584268 0.48691417 0.19689608 0.5942906 ]\n",
            " [0.79827042 0.         0.82209238 0.60561603 0.41354243 0.70832052\n",
            "  0.88773639 0.36965337 0.84669069 0.45882682]\n",
            " [0.10108342 0.82209238 0.         0.23872238 0.6958297  0.28063646\n",
            "  0.69165996 0.48286583 0.2948358  0.55982812]\n",
            " [0.19322797 0.60561603 0.23872238 0.         0.57758374 0.32819\n",
            "  0.74097876 0.31661393 0.28446317 0.45927615]\n",
            " [0.72544905 0.41354243 0.6958297  0.57758374 0.         0.46226226\n",
            "  0.4863563  0.27205259 0.86190543 0.13780455]\n",
            " [0.35384284 0.70832052 0.28063646 0.32819    0.46226226 0.\n",
            "  0.42570108 0.33902807 0.5430466  0.32611196]\n",
            " [0.77584268 0.88773639 0.69165996 0.74097876 0.4863563  0.42570108\n",
            "  0.         0.59659567 0.96813942 0.43583006]\n",
            " [0.48691417 0.36965337 0.48286583 0.31661393 0.27205259 0.33902807\n",
            "  0.59659567 0.         0.59957887 0.18673129]\n",
            " [0.19689608 0.84669069 0.2948358  0.28446317 0.86190543 0.5430466\n",
            "  0.96813942 0.59957887 0.         0.74102567]\n",
            " [0.5942906  0.45882682 0.55982812 0.45927615 0.13780455 0.32611196\n",
            "  0.43583006 0.18673129 0.74102567 0.        ]]\n"
          ]
        }
      ],
      "source": [
        "Z = np.random.random((10,2))\n",
        "X,Y = np.atleast_2d(Z[:,0], Z[:,1])\n",
        "D = np.sqrt( (X-X.T)**2 + (Y-Y.T)**2)\n",
        "print(D)\n",
        "\n",
        "# Much faster with scipy\n",
        "import scipy\n",
        "# Thanks Gavin Heverly-Coulson (#issue 1)\n",
        "import scipy.spatial\n",
        "\n",
        "Z = np.random.random((10,2))\n",
        "D = scipy.spatial.distance.cdist(Z,Z)\n",
        "print(D)"
      ]
    },
    {
      "cell_type": "markdown",
      "metadata": {
        "id": "YJZp_rySmhzj"
      },
      "source": [
        "#### 53. How to convert a float (32 bits) array into an integer (32 bits) in place?"
      ]
    },
    {
      "cell_type": "code",
      "execution_count": null,
      "metadata": {
        "id": "TGUdn_wWmhzj",
        "colab": {
          "base_uri": "https://localhost:8080/"
        },
        "outputId": "6c97f24a-d0a7-4b0b-ec30-e3505c2493bf"
      },
      "outputs": [
        {
          "output_type": "stream",
          "name": "stdout",
          "text": [
            "[0. 1. 2. 3. 4. 5. 6. 7. 8. 9.]\n"
          ]
        }
      ],
      "source": [
        "Z = np.arange(10, dtype=np.int32)\n",
        "Z = Z.astype(np.float32, copy=False)\n",
        "print(Z)"
      ]
    },
    {
      "cell_type": "markdown",
      "metadata": {
        "id": "rXKKuP3pmhzj"
      },
      "source": [
        "#### 54. How to read the following file? (★★☆)\n",
        "```\n",
        "1, 2, 3, 4, 5\n",
        "6,  ,  , 7, 8\n",
        " ,  , 9,10,11\n",
        "```"
      ]
    },
    {
      "cell_type": "code",
      "execution_count": null,
      "metadata": {
        "id": "8AaPvzInmhzj",
        "colab": {
          "base_uri": "https://localhost:8080/"
        },
        "outputId": "6b824edb-3da3-4f12-839c-28dd63608426"
      },
      "outputs": [
        {
          "output_type": "stream",
          "name": "stdout",
          "text": [
            "[[ 1  2  3  4  5]\n",
            " [ 6 -1 -1  7  8]\n",
            " [-1 -1  9 10 11]]\n"
          ]
        },
        {
          "output_type": "stream",
          "name": "stderr",
          "text": [
            "<ipython-input-156-8b2485b5e9f4>:7: DeprecationWarning: `np.int` is a deprecated alias for the builtin `int`. To silence this warning, use `int` by itself. Doing this will not modify any behavior and is safe. When replacing `np.int`, you may wish to use e.g. `np.int64` or `np.int32` to specify the precision. If you wish to review your current use, check the release note link for additional information.\n",
            "Deprecated in NumPy 1.20; for more details and guidance: https://numpy.org/devdocs/release/1.20.0-notes.html#deprecations\n",
            "  Z = np.genfromtxt(s, delimiter=\",\", dtype=np.int)\n"
          ]
        }
      ],
      "source": [
        "from io import StringIO\n",
        "\n",
        "# Fake file\n",
        "s = StringIO(\"\"\"1, 2, 3, 4, 5\\n\n",
        "                6,  ,  , 7, 8\\n\n",
        "                 ,  , 9,10,11\\n\"\"\")\n",
        "Z = np.genfromtxt(s, delimiter=\",\", dtype=np.int)\n",
        "print(Z)\n"
      ]
    },
    {
      "cell_type": "markdown",
      "metadata": {
        "id": "1Tcg_9-8mhzj"
      },
      "source": [
        "#### 55. What is the equivalent of enumerate for numpy arrays? (★★☆)"
      ]
    },
    {
      "cell_type": "code",
      "execution_count": null,
      "metadata": {
        "id": "9U98dT_6mhzj",
        "colab": {
          "base_uri": "https://localhost:8080/"
        },
        "outputId": "f136c6fa-29fc-4bad-b7bd-48a00ba8b031"
      },
      "outputs": [
        {
          "output_type": "stream",
          "name": "stdout",
          "text": [
            "(0, 0) 0\n",
            "(0, 1) 1\n",
            "(0, 2) 2\n",
            "(1, 0) 3\n",
            "(1, 1) 4\n",
            "(1, 2) 5\n",
            "(2, 0) 6\n",
            "(2, 1) 7\n",
            "(2, 2) 8\n",
            "(0, 0) 0\n",
            "(0, 1) 1\n",
            "(0, 2) 2\n",
            "(1, 0) 3\n",
            "(1, 1) 4\n",
            "(1, 2) 5\n",
            "(2, 0) 6\n",
            "(2, 1) 7\n",
            "(2, 2) 8\n"
          ]
        }
      ],
      "source": [
        "Z = np.arange(9).reshape(3,3)\n",
        "for index, value in np.ndenumerate(Z):\n",
        "    print(index, value)\n",
        "for index in np.ndindex(Z.shape):\n",
        "    print(index, Z[index])"
      ]
    },
    {
      "cell_type": "markdown",
      "metadata": {
        "id": "EZS2Q1ynmhzk"
      },
      "source": [
        "#### 56. Generate a generic 2D Gaussian-like array (★★☆)"
      ]
    },
    {
      "cell_type": "code",
      "execution_count": null,
      "metadata": {
        "id": "6m4ssh5zmhzk",
        "colab": {
          "base_uri": "https://localhost:8080/"
        },
        "outputId": "ed30c6d4-b8f9-41e0-d124-25f0de88a5c0"
      },
      "outputs": [
        {
          "output_type": "stream",
          "name": "stdout",
          "text": [
            "[[0.36787944 0.44822088 0.51979489 0.57375342 0.60279818 0.60279818\n",
            "  0.57375342 0.51979489 0.44822088 0.36787944]\n",
            " [0.44822088 0.54610814 0.63331324 0.69905581 0.73444367 0.73444367\n",
            "  0.69905581 0.63331324 0.54610814 0.44822088]\n",
            " [0.51979489 0.63331324 0.73444367 0.81068432 0.85172308 0.85172308\n",
            "  0.81068432 0.73444367 0.63331324 0.51979489]\n",
            " [0.57375342 0.69905581 0.81068432 0.89483932 0.9401382  0.9401382\n",
            "  0.89483932 0.81068432 0.69905581 0.57375342]\n",
            " [0.60279818 0.73444367 0.85172308 0.9401382  0.98773022 0.98773022\n",
            "  0.9401382  0.85172308 0.73444367 0.60279818]\n",
            " [0.60279818 0.73444367 0.85172308 0.9401382  0.98773022 0.98773022\n",
            "  0.9401382  0.85172308 0.73444367 0.60279818]\n",
            " [0.57375342 0.69905581 0.81068432 0.89483932 0.9401382  0.9401382\n",
            "  0.89483932 0.81068432 0.69905581 0.57375342]\n",
            " [0.51979489 0.63331324 0.73444367 0.81068432 0.85172308 0.85172308\n",
            "  0.81068432 0.73444367 0.63331324 0.51979489]\n",
            " [0.44822088 0.54610814 0.63331324 0.69905581 0.73444367 0.73444367\n",
            "  0.69905581 0.63331324 0.54610814 0.44822088]\n",
            " [0.36787944 0.44822088 0.51979489 0.57375342 0.60279818 0.60279818\n",
            "  0.57375342 0.51979489 0.44822088 0.36787944]]\n"
          ]
        }
      ],
      "source": [
        "X, Y = np.meshgrid(np.linspace(-1,1,10), np.linspace(-1,1,10))\n",
        "D = np.sqrt(X*X+Y*Y)\n",
        "sigma, mu = 1.0, 0.0\n",
        "G = np.exp(-( (D-mu)**2 / ( 2.0 * sigma**2 ) ) )\n",
        "print(G)"
      ]
    },
    {
      "cell_type": "markdown",
      "metadata": {
        "id": "UvXDGH7Vmhzk"
      },
      "source": [
        "#### 57. How to randomly place p elements in a 2D array? (★★☆)"
      ]
    },
    {
      "cell_type": "code",
      "execution_count": null,
      "metadata": {
        "id": "eDLm7Qlgmhzk",
        "colab": {
          "base_uri": "https://localhost:8080/"
        },
        "outputId": "ab6e0f01-86b8-4f93-9e47-d4d33058ae9f"
      },
      "outputs": [
        {
          "output_type": "stream",
          "name": "stdout",
          "text": [
            "[[0. 0. 0. 0. 0. 0. 0. 0. 0. 0.]\n",
            " [0. 0. 1. 0. 0. 0. 0. 0. 0. 0.]\n",
            " [0. 0. 0. 0. 0. 0. 0. 0. 0. 0.]\n",
            " [0. 0. 0. 0. 0. 0. 0. 0. 0. 0.]\n",
            " [0. 0. 0. 0. 0. 0. 1. 0. 0. 0.]\n",
            " [0. 0. 0. 0. 0. 0. 0. 0. 0. 0.]\n",
            " [0. 0. 0. 0. 0. 0. 0. 0. 0. 0.]\n",
            " [0. 0. 0. 0. 0. 0. 0. 1. 0. 0.]\n",
            " [0. 0. 0. 0. 0. 0. 0. 0. 0. 0.]\n",
            " [0. 0. 0. 0. 0. 0. 0. 0. 0. 0.]]\n"
          ]
        }
      ],
      "source": [
        "n = 10\n",
        "p = 3\n",
        "Z = np.zeros((n,n))\n",
        "np.put(Z, np.random.choice(range(n*n), p, replace=False),1)\n",
        "print(Z)"
      ]
    },
    {
      "cell_type": "markdown",
      "metadata": {
        "id": "WLh21Palmhzk"
      },
      "source": [
        "#### 58. Subtract the mean of each row of a matrix (★★☆)"
      ]
    },
    {
      "cell_type": "code",
      "execution_count": null,
      "metadata": {
        "id": "dKT-Gl5dmhzk",
        "colab": {
          "base_uri": "https://localhost:8080/"
        },
        "outputId": "f51d95fb-b2c1-4ebd-a381-1e494336621a"
      },
      "outputs": [
        {
          "output_type": "stream",
          "name": "stdout",
          "text": [
            "[[-0.25612816 -0.33665614 -0.19122869 -0.32370527 -0.13507662 -0.14493666\n",
            "   0.05337107  0.49318697  0.55083889  0.29033461]\n",
            " [ 0.17701944 -0.5320023  -0.48786388  0.11949103  0.11103252  0.2682611\n",
            "   0.21463158 -0.03610914  0.32999527 -0.16445563]\n",
            " [-0.30227078  0.02329253 -0.07614779 -0.09841945 -0.15861849  0.34512663\n",
            "   0.23717346 -0.30419887  0.22037882  0.11368392]\n",
            " [ 0.10721945  0.12161361  0.2879242  -0.4150183   0.36697608 -0.09592098\n",
            "   0.24014408  0.22553909 -0.43725214 -0.40122509]\n",
            " [-0.3833978  -0.06797403  0.02911677  0.32534538 -0.16536693  0.33113809\n",
            "   0.20061257  0.10597815 -0.1520039  -0.2234483 ]]\n"
          ]
        }
      ],
      "source": [
        "X = np.random.rand(5, 10)\n",
        "\n",
        "# Recent versions of numpy\n",
        "Y = X - X.mean(axis=1, keepdims=True)\n",
        "\n",
        "# Older versions of numpy\n",
        "Y = X - X.mean(axis=1).reshape(-1, 1)\n",
        "\n",
        "print(Y)"
      ]
    },
    {
      "cell_type": "markdown",
      "metadata": {
        "id": "ULLY_6nSmhzk"
      },
      "source": [
        "#### 59. How to sort an array by the nth column? (★★☆)"
      ]
    },
    {
      "cell_type": "code",
      "execution_count": null,
      "metadata": {
        "id": "gL5D8jqumhzl",
        "colab": {
          "base_uri": "https://localhost:8080/"
        },
        "outputId": "111ee156-654b-4ff6-8113-8e459d818a26"
      },
      "outputs": [
        {
          "output_type": "stream",
          "name": "stdout",
          "text": [
            "[[9 9 2]\n",
            " [0 3 6]\n",
            " [8 4 8]]\n",
            "[[0 3 6]\n",
            " [8 4 8]\n",
            " [9 9 2]]\n"
          ]
        }
      ],
      "source": [
        "Z = np.random.randint(0,10,(3,3))\n",
        "print(Z)\n",
        "print(Z[Z[:,1].argsort()])"
      ]
    },
    {
      "cell_type": "markdown",
      "metadata": {
        "id": "tz-ko8oVmhzl"
      },
      "source": [
        "#### 60. How to tell if a given 2D array has null columns? (★★☆)"
      ]
    },
    {
      "cell_type": "code",
      "execution_count": null,
      "metadata": {
        "id": "Jbq8zZLAmhzl",
        "colab": {
          "base_uri": "https://localhost:8080/"
        },
        "outputId": "75a9364f-896b-4a22-aaeb-d1360561cc0e"
      },
      "outputs": [
        {
          "output_type": "stream",
          "name": "stdout",
          "text": [
            "False\n"
          ]
        }
      ],
      "source": [
        "Z = np.random.randint(0,3,(3,10))\n",
        "print((~Z.any(axis=0)).any())"
      ]
    },
    {
      "cell_type": "markdown",
      "metadata": {
        "id": "wv7Wfr1smhzl"
      },
      "source": [
        "#### 61. Find the nearest value from a given value in an array (★★☆)"
      ]
    },
    {
      "cell_type": "code",
      "execution_count": null,
      "metadata": {
        "id": "ss2xJ-XTmhzl",
        "colab": {
          "base_uri": "https://localhost:8080/"
        },
        "outputId": "249cbfd8-6954-4709-dcfd-8c2e41e2b922"
      },
      "outputs": [
        {
          "output_type": "stream",
          "name": "stdout",
          "text": [
            "0.4430967779591005\n"
          ]
        }
      ],
      "source": [
        "Z = np.random.uniform(0,1,10)\n",
        "z = 0.5\n",
        "m = Z.flat[np.abs(Z - z).argmin()]\n",
        "print(m)"
      ]
    },
    {
      "cell_type": "markdown",
      "metadata": {
        "id": "lDp4NkK8mhzl"
      },
      "source": [
        "#### 62. Considering two arrays with shape (1,3) and (3,1), how to compute their sum using an iterator? (★★☆)"
      ]
    },
    {
      "cell_type": "code",
      "execution_count": null,
      "metadata": {
        "id": "b359sz-Qmhzl",
        "colab": {
          "base_uri": "https://localhost:8080/"
        },
        "outputId": "f68b0aee-78b3-4ed2-e189-655848b7da38"
      },
      "outputs": [
        {
          "output_type": "stream",
          "name": "stdout",
          "text": [
            "[[0 1 2]\n",
            " [1 2 3]\n",
            " [2 3 4]]\n"
          ]
        }
      ],
      "source": [
        "A = np.arange(3).reshape(3,1)\n",
        "B = np.arange(3).reshape(1,3)\n",
        "it = np.nditer([A,B,None])\n",
        "for x,y,z in it: z[...] = x + y\n",
        "print(it.operands[2])"
      ]
    },
    {
      "cell_type": "markdown",
      "metadata": {
        "id": "vubyds3Gmhzl"
      },
      "source": [
        "#### 63. Create an array class that has a name attribute (★★☆)"
      ]
    },
    {
      "cell_type": "code",
      "execution_count": null,
      "metadata": {
        "id": "VZgBDQHAmhzl",
        "colab": {
          "base_uri": "https://localhost:8080/"
        },
        "outputId": "97f25946-5387-453b-f773-7c57652ffaa6"
      },
      "outputs": [
        {
          "output_type": "stream",
          "name": "stdout",
          "text": [
            "range_10\n"
          ]
        }
      ],
      "source": [
        "class NamedArray(np.ndarray):\n",
        "    def __new__(cls, array, name=\"no name\"):\n",
        "        obj = np.asarray(array).view(cls)\n",
        "        obj.name = name\n",
        "        return obj\n",
        "    def __array_finalize__(self, obj):\n",
        "        if obj is None: return\n",
        "        self.info = getattr(obj, 'name', \"no name\")\n",
        "\n",
        "Z = NamedArray(np.arange(10), \"range_10\")\n",
        "print (Z.name)"
      ]
    },
    {
      "cell_type": "markdown",
      "metadata": {
        "id": "Xt6P1A4_mhzl"
      },
      "source": [
        "#### 64. Consider a given vector, how to add 1 to each element indexed by a second vector (be careful with repeated indices)? (★★★)"
      ]
    },
    {
      "cell_type": "code",
      "execution_count": null,
      "metadata": {
        "id": "rI_J9qN6mhzl",
        "colab": {
          "base_uri": "https://localhost:8080/"
        },
        "outputId": "ccc311d4-3563-49cc-ba36-d28ab2bcab26"
      },
      "outputs": [
        {
          "output_type": "stream",
          "name": "stdout",
          "text": [
            "[2. 3. 4. 4. 1. 2. 3. 4. 6. 1.]\n",
            "[ 3.  5.  7.  7.  1.  3.  5.  7. 11.  1.]\n"
          ]
        }
      ],
      "source": [
        "Z = np.ones(10)\n",
        "I = np.random.randint(0,len(Z),20)\n",
        "Z += np.bincount(I, minlength=len(Z))\n",
        "print(Z)\n",
        "\n",
        "# Another solution\n",
        "# Author: Bartosz Telenczuk\n",
        "np.add.at(Z, I, 1)\n",
        "print(Z)"
      ]
    },
    {
      "cell_type": "markdown",
      "metadata": {
        "id": "0YVFRHkNmhzm"
      },
      "source": [
        "#### 65. How to accumulate elements of a vector (X) to an array (F) based on an index list (I)? (★★★)"
      ]
    },
    {
      "cell_type": "code",
      "execution_count": null,
      "metadata": {
        "id": "Jnc1sGPvmhzm",
        "colab": {
          "base_uri": "https://localhost:8080/"
        },
        "outputId": "c906f211-5d82-4cd7-8b09-25bd8afbe4a8"
      },
      "outputs": [
        {
          "output_type": "stream",
          "name": "stdout",
          "text": [
            "[0. 7. 0. 6. 5. 0. 0. 0. 0. 3.]\n"
          ]
        }
      ],
      "source": [
        "X = [1,2,3,4,5,6]\n",
        "I = [1,3,9,3,4,1]\n",
        "F = np.bincount(I,X)\n",
        "print(F)"
      ]
    },
    {
      "cell_type": "markdown",
      "metadata": {
        "id": "gnBj07Qdmhzm"
      },
      "source": [
        "#### 66. Considering a (w,h,3) image of (dtype=ubyte), compute the number of unique colors (★★★)"
      ]
    },
    {
      "cell_type": "code",
      "execution_count": null,
      "metadata": {
        "id": "kLtnNAq2mhzm",
        "colab": {
          "base_uri": "https://localhost:8080/"
        },
        "outputId": "89d0dee5-f864-4707-ae5f-7bdb11a09535"
      },
      "outputs": [
        {
          "output_type": "stream",
          "name": "stdout",
          "text": [
            "8\n"
          ]
        }
      ],
      "source": [
        "\n",
        "w,h = 16,16\n",
        "I = np.random.randint(0,2,(h,w,3)).astype(np.ubyte)\n",
        "#Note that we should compute 256*256 first.\n",
        "#Otherwise numpy will only promote F.dtype to 'uint16' and overfolw will occur\n",
        "F = I[...,0]*(256*256) + I[...,1]*256 +I[...,2]\n",
        "n = len(np.unique(F))\n",
        "print(n)"
      ]
    },
    {
      "cell_type": "markdown",
      "metadata": {
        "id": "xSFigCigmhzm"
      },
      "source": [
        "#### 67. Considering a four dimensions array, how to get sum over the last two axis at once? (★★★)"
      ]
    },
    {
      "cell_type": "code",
      "execution_count": null,
      "metadata": {
        "id": "cZVT3Okdmhzm",
        "colab": {
          "base_uri": "https://localhost:8080/"
        },
        "outputId": "cad1ea12-fef8-4791-b550-b328c1ae1d38"
      },
      "outputs": [
        {
          "output_type": "stream",
          "name": "stdout",
          "text": [
            "[[66 63 46 36]\n",
            " [43 70 60 64]\n",
            " [57 62 68 53]]\n",
            "[[66 63 46 36]\n",
            " [43 70 60 64]\n",
            " [57 62 68 53]]\n"
          ]
        }
      ],
      "source": [
        "A = np.random.randint(0,10,(3,4,3,4))\n",
        "# solution by passing a tuple of axes (introduced in numpy 1.7.0)\n",
        "sum = A.sum(axis=(-2,-1))\n",
        "print(sum)\n",
        "# solution by flattening the last two dimensions into one\n",
        "# (useful for functions that don't accept tuples for axis argument)\n",
        "sum = A.reshape(A.shape[:-2] + (-1,)).sum(axis=-1)\n",
        "print(sum)\n"
      ]
    },
    {
      "cell_type": "markdown",
      "metadata": {
        "id": "1ds31UV2mhzm"
      },
      "source": [
        "#### 68. Considering a one-dimensional vector D, how to compute means of subsets of D using a vector S of same size describing subset  indices? (★★★)"
      ]
    },
    {
      "cell_type": "code",
      "execution_count": null,
      "metadata": {
        "id": "W9G5Gj8lmhzm",
        "colab": {
          "base_uri": "https://localhost:8080/"
        },
        "outputId": "8c4d0cd9-3f10-4a13-9d56-bf265470663c"
      },
      "outputs": [
        {
          "output_type": "stream",
          "name": "stdout",
          "text": [
            "[0.48459601 0.29480075 0.75084399 0.39098338 0.50456054 0.36630562\n",
            " 0.64367278 0.54348196 0.25310111 0.50915248]\n",
            "0    0.484596\n",
            "1    0.294801\n",
            "2    0.750844\n",
            "3    0.390983\n",
            "4    0.504561\n",
            "5    0.366306\n",
            "6    0.643673\n",
            "7    0.543482\n",
            "8    0.253101\n",
            "9    0.509152\n",
            "dtype: float64\n"
          ]
        }
      ],
      "source": [
        "D = np.random.uniform(0,1,100)\n",
        "S = np.random.randint(0,10,100)\n",
        "D_sums = np.bincount(S, weights=D)\n",
        "D_counts = np.bincount(S)\n",
        "D_means = D_sums / D_counts\n",
        "print(D_means)\n",
        "\n",
        "# Pandas solution as a reference due to more intuitive code\n",
        "import pandas as pd\n",
        "print(pd.Series(D).groupby(S).mean())"
      ]
    },
    {
      "cell_type": "markdown",
      "metadata": {
        "id": "DmgB_TXBmhzm"
      },
      "source": [
        "#### 69. How to get the diagonal of a dot product? (★★★)"
      ]
    },
    {
      "cell_type": "code",
      "execution_count": null,
      "metadata": {
        "id": "lmsypM9Smhzm",
        "colab": {
          "base_uri": "https://localhost:8080/"
        },
        "outputId": "e3f8d2f0-2275-40eb-c624-6bb4e1c91af1"
      },
      "outputs": [
        {
          "output_type": "execute_result",
          "data": {
            "text/plain": [
              "array([1.46099141, 2.06156531, 0.36956116, 0.96039331, 2.14573586])"
            ]
          },
          "metadata": {},
          "execution_count": 171
        }
      ],
      "source": [
        "A = np.random.uniform(0,1,(5,5))\n",
        "B = np.random.uniform(0,1,(5,5))\n",
        "\n",
        "# Slow version\n",
        "np.diag(np.dot(A, B))\n",
        "\n",
        "# Fast version\n",
        "np.sum(A * B.T, axis=1)\n",
        "\n",
        "# Faster version\n",
        "np.einsum(\"ij,ji->i\", A, B)"
      ]
    },
    {
      "cell_type": "markdown",
      "metadata": {
        "id": "NnalcEF-mhzn"
      },
      "source": [
        "#### 70. Consider the vector [1, 2, 3, 4, 5], how to build a new vector with 3 consecutive zeros interleaved between each value? (★★★)"
      ]
    },
    {
      "cell_type": "code",
      "execution_count": null,
      "metadata": {
        "id": "PoXJYOw9mhzn",
        "colab": {
          "base_uri": "https://localhost:8080/"
        },
        "outputId": "1e572c5d-6b57-4152-b1a9-f0531fd745ff"
      },
      "outputs": [
        {
          "output_type": "stream",
          "name": "stdout",
          "text": [
            "[1. 0. 0. 0. 2. 0. 0. 0. 3. 0. 0. 0. 4. 0. 0. 0. 5.]\n"
          ]
        }
      ],
      "source": [
        "Z = np.array([1,2,3,4,5])\n",
        "nz = 3\n",
        "Z0 = np.zeros(len(Z) + (len(Z)-1)*(nz))\n",
        "Z0[::nz+1] = Z\n",
        "print(Z0)"
      ]
    },
    {
      "cell_type": "markdown",
      "metadata": {
        "id": "L8mUVTH-mhzn"
      },
      "source": [
        "#### 71. Consider an array of dimension (5,5,3), how to mulitply it by an array with dimensions (5,5)? (★★★)"
      ]
    },
    {
      "cell_type": "code",
      "execution_count": null,
      "metadata": {
        "id": "p_zJswn0mhzn",
        "colab": {
          "base_uri": "https://localhost:8080/"
        },
        "outputId": "01e7508f-a457-4dec-e3b2-2a38384b096e"
      },
      "outputs": [
        {
          "output_type": "stream",
          "name": "stdout",
          "text": [
            "[[[2. 2. 2.]\n",
            "  [2. 2. 2.]\n",
            "  [2. 2. 2.]\n",
            "  [2. 2. 2.]\n",
            "  [2. 2. 2.]]\n",
            "\n",
            " [[2. 2. 2.]\n",
            "  [2. 2. 2.]\n",
            "  [2. 2. 2.]\n",
            "  [2. 2. 2.]\n",
            "  [2. 2. 2.]]\n",
            "\n",
            " [[2. 2. 2.]\n",
            "  [2. 2. 2.]\n",
            "  [2. 2. 2.]\n",
            "  [2. 2. 2.]\n",
            "  [2. 2. 2.]]\n",
            "\n",
            " [[2. 2. 2.]\n",
            "  [2. 2. 2.]\n",
            "  [2. 2. 2.]\n",
            "  [2. 2. 2.]\n",
            "  [2. 2. 2.]]\n",
            "\n",
            " [[2. 2. 2.]\n",
            "  [2. 2. 2.]\n",
            "  [2. 2. 2.]\n",
            "  [2. 2. 2.]\n",
            "  [2. 2. 2.]]]\n"
          ]
        }
      ],
      "source": [
        "A = np.ones((5,5,3))\n",
        "B = 2*np.ones((5,5))\n",
        "print(A * B[:,:,None])"
      ]
    },
    {
      "cell_type": "markdown",
      "metadata": {
        "id": "2onvyjVhmhzn"
      },
      "source": [
        "#### 72. How to swap two rows of an array? (★★★)"
      ]
    },
    {
      "cell_type": "code",
      "execution_count": null,
      "metadata": {
        "id": "BVNO7LbImhzn",
        "colab": {
          "base_uri": "https://localhost:8080/"
        },
        "outputId": "863e1169-da1c-431b-cfba-a862ad593020"
      },
      "outputs": [
        {
          "output_type": "stream",
          "name": "stdout",
          "text": [
            "[[ 5  6  7  8  9]\n",
            " [ 0  1  2  3  4]\n",
            " [10 11 12 13 14]\n",
            " [15 16 17 18 19]\n",
            " [20 21 22 23 24]]\n"
          ]
        }
      ],
      "source": [
        "A = np.arange(25).reshape(5,5)\n",
        "A[[0,1]] = A[[1,0]]\n",
        "print(A)"
      ]
    },
    {
      "cell_type": "markdown",
      "metadata": {
        "id": "H0alOxqCmhzn"
      },
      "source": [
        "#### 73. Consider a set of 10 triplets describing 10 triangles (with shared vertices), find the set of unique line segments composing all the  triangles (★★★)"
      ]
    },
    {
      "cell_type": "code",
      "execution_count": null,
      "metadata": {
        "id": "Th7JBJy9mhzn",
        "colab": {
          "base_uri": "https://localhost:8080/"
        },
        "outputId": "38afbf68-02d3-47cd-9220-e220f1edfde5"
      },
      "outputs": [
        {
          "output_type": "stream",
          "name": "stdout",
          "text": [
            "[( 3, 38) ( 3, 59) ( 5, 63) ( 5, 67) ( 9, 51) ( 9, 88) (16, 19) (16, 38)\n",
            " (19, 38) (21, 23) (21, 80) (23, 80) (24, 69) (24, 88) (34, 40) (34, 73)\n",
            " (35, 46) (35, 82) (38, 59) (40, 73) (46, 82) (51, 88) (63, 66) (63, 67)\n",
            " (63, 71) (66, 71) (66, 96) (66, 97) (69, 88) (96, 97)]\n"
          ]
        }
      ],
      "source": [
        "\n",
        "faces = np.random.randint(0,100,(10,3))\n",
        "F = np.roll(faces.repeat(2,axis=1),-1,axis=1)\n",
        "F = F.reshape(len(F)*3,2)\n",
        "F = np.sort(F,axis=1)\n",
        "G = F.view( dtype=[('p0',F.dtype),('p1',F.dtype)] )\n",
        "G = np.unique(G)\n",
        "print(G)"
      ]
    },
    {
      "cell_type": "markdown",
      "metadata": {
        "id": "Ee4BJ0X0mhzn"
      },
      "source": [
        "#### 74. Given an array C that is a bincount, how to produce an array A such that np.bincount(A) == C? (★★★)"
      ]
    },
    {
      "cell_type": "code",
      "execution_count": null,
      "metadata": {
        "id": "HEPBA2kSmhzn",
        "colab": {
          "base_uri": "https://localhost:8080/"
        },
        "outputId": "57c895e6-3919-4fd7-f434-d2c33f0dd43c"
      },
      "outputs": [
        {
          "output_type": "stream",
          "name": "stdout",
          "text": [
            "[1 1 2 3 4 4 6]\n"
          ]
        }
      ],
      "source": [
        "C = np.bincount([1,1,2,3,4,4,6])\n",
        "A = np.repeat(np.arange(len(C)), C)\n",
        "print(A)"
      ]
    },
    {
      "cell_type": "markdown",
      "metadata": {
        "id": "2qJsAYZUmhzo"
      },
      "source": [
        "#### 75. How to compute averages using a sliding window over an array? (★★★)"
      ]
    },
    {
      "cell_type": "code",
      "execution_count": null,
      "metadata": {
        "id": "C0j9aTqQmhzo",
        "colab": {
          "base_uri": "https://localhost:8080/"
        },
        "outputId": "090e2028-00d0-4a77-d5a7-8e2ab8c457c1"
      },
      "outputs": [
        {
          "output_type": "stream",
          "name": "stdout",
          "text": [
            "[ 1.  2.  3.  4.  5.  6.  7.  8.  9. 10. 11. 12. 13. 14. 15. 16. 17. 18.]\n"
          ]
        }
      ],
      "source": [
        "def moving_average(a, n=3) :\n",
        "    ret = np.cumsum(a, dtype=float)\n",
        "    ret[n:] = ret[n:] - ret[:-n]\n",
        "    return ret[n - 1:] / n\n",
        "Z = np.arange(20)\n",
        "print(moving_average(Z, n=3))"
      ]
    },
    {
      "cell_type": "markdown",
      "metadata": {
        "id": "t61arBcWmhzo"
      },
      "source": [
        "#### 76. Consider a one-dimensional array Z, build a two-dimensional array whose first row is (Z[0],Z[1],Z[2]) and each subsequent row is  shifted by 1 (last row should be (Z[-3],Z[-2],Z[-1]) (★★★)"
      ]
    },
    {
      "cell_type": "code",
      "execution_count": null,
      "metadata": {
        "id": "TDrNBfFXmhzo",
        "colab": {
          "base_uri": "https://localhost:8080/"
        },
        "outputId": "243a6229-74ce-432f-9dc1-e5ed11ae8641"
      },
      "outputs": [
        {
          "output_type": "stream",
          "name": "stdout",
          "text": [
            "[[0 1 2]\n",
            " [1 2 3]\n",
            " [2 3 4]\n",
            " [3 4 5]\n",
            " [4 5 6]\n",
            " [5 6 7]\n",
            " [6 7 8]\n",
            " [7 8 9]]\n"
          ]
        }
      ],
      "source": [
        "from numpy.lib import stride_tricks\n",
        "\n",
        "def rolling(a, window):\n",
        "    shape = (a.size - window + 1, window)\n",
        "    strides = (a.itemsize, a.itemsize)\n",
        "    return stride_tricks.as_strided(a, shape=shape, strides=strides)\n",
        "Z = rolling(np.arange(10), 3)\n",
        "print(Z)"
      ]
    },
    {
      "cell_type": "markdown",
      "metadata": {
        "id": "6j0Fhb6kmhzo"
      },
      "source": [
        "#### 77. How to negate a boolean, or to change the sign of a float inplace? (★★★)"
      ]
    },
    {
      "cell_type": "code",
      "execution_count": null,
      "metadata": {
        "id": "rRhXOTlhmhzo",
        "colab": {
          "base_uri": "https://localhost:8080/"
        },
        "outputId": "5e955cf5-14ee-43df-eac9-6642448155c6"
      },
      "outputs": [
        {
          "output_type": "execute_result",
          "data": {
            "text/plain": [
              "array([ 0.22631884,  0.84123279,  0.19048419, -0.10150892,  0.2633255 ,\n",
              "       -0.85349516,  0.03498549,  0.4874472 , -0.88442278, -0.48175062,\n",
              "        0.49674172, -0.85482858,  0.7806422 , -0.11545825,  0.00819714,\n",
              "        0.0345709 , -0.22982024, -0.57918206, -0.19544556, -0.68756239,\n",
              "        0.24402122, -0.68212729,  0.26503671,  0.92079532,  0.83367794,\n",
              "        0.4707433 , -0.32363926,  0.94021618,  0.34084834, -0.85592704,\n",
              "        0.97413893,  0.95580854, -0.11931352,  0.2369711 ,  0.62644333,\n",
              "       -0.58368687, -0.62687513,  0.40175442,  0.9854494 ,  0.93525439,\n",
              "       -0.19594347, -0.41610148,  0.65231428, -0.65959668,  0.27486307,\n",
              "        0.94627115,  0.13459801, -0.86402902,  0.86314076,  0.17498063,\n",
              "       -0.85303155,  0.91770577,  0.73944664, -0.15725643,  0.79320869,\n",
              "        0.01853383,  0.60376369,  0.41545584,  0.63707875,  0.6325756 ,\n",
              "        0.54860194, -0.85101271,  0.50558956,  0.56511413, -0.49486937,\n",
              "        0.33144945, -0.50258904, -0.7604503 , -0.79442098,  0.34777683,\n",
              "       -0.01231899,  0.3079194 ,  0.63246749, -0.46016752,  0.85873354,\n",
              "        0.29215099, -0.03874323, -0.17704635, -0.51850508,  0.25126036,\n",
              "        0.24038621, -0.27597529, -0.72311517,  0.09250357,  0.34385249,\n",
              "       -0.15111076, -0.82722951,  0.0776889 , -0.61470654,  0.22947942,\n",
              "        0.41510522, -0.29813934,  0.00975869,  0.11889658,  0.85031446,\n",
              "       -0.10170792, -0.04527337, -0.66654958,  0.9332001 ,  0.16456217])"
            ]
          },
          "metadata": {},
          "execution_count": 179
        }
      ],
      "source": [
        "Z = np.random.randint(0,2,100)\n",
        "np.logical_not(Z, out=Z)\n",
        "\n",
        "Z = np.random.uniform(-1.0,1.0,100)\n",
        "np.negative(Z, out=Z)"
      ]
    },
    {
      "cell_type": "markdown",
      "metadata": {
        "id": "QDNYyulDmhzo"
      },
      "source": [
        "#### 78. Consider 2 sets of points P0,P1 describing lines (2d) and a point p, how to compute distance from p to each line i (P0[i],P1[i])? (★★★)"
      ]
    },
    {
      "cell_type": "code",
      "execution_count": null,
      "metadata": {
        "id": "pnZnZkwBmhzo",
        "colab": {
          "base_uri": "https://localhost:8080/"
        },
        "outputId": "da883d5a-6ff3-4bf1-b206-9914f1eb154d"
      },
      "outputs": [
        {
          "output_type": "stream",
          "name": "stdout",
          "text": [
            "[10.77623672  1.93179318  1.04868776  5.80603645  0.41795157  1.61051906\n",
            "  5.75997132  6.64449991  8.66303399  1.03201605]\n"
          ]
        }
      ],
      "source": [
        "def distance(P0, P1, p):\n",
        "    T = P1 - P0\n",
        "    L = (T**2).sum(axis=1)\n",
        "    U = -((P0[:,0]-p[...,0])*T[:,0] + (P0[:,1]-p[...,1])*T[:,1]) / L\n",
        "    U = U.reshape(len(U),1)\n",
        "    D = P0 + U*T - p\n",
        "    return np.sqrt((D**2).sum(axis=1))\n",
        "\n",
        "P0 = np.random.uniform(-10,10,(10,2))\n",
        "P1 = np.random.uniform(-10,10,(10,2))\n",
        "p  = np.random.uniform(-10,10,( 1,2))\n",
        "print(distance(P0, P1, p))"
      ]
    },
    {
      "cell_type": "markdown",
      "metadata": {
        "id": "LvitKiR-mhzo"
      },
      "source": [
        "#### 79. Consider 2 sets of points P0,P1 describing lines (2d) and a set of points P, how to compute distance from each point j (P[j]) to each line i (P0[i],P1[i])? (★★★)"
      ]
    },
    {
      "cell_type": "code",
      "execution_count": null,
      "metadata": {
        "id": "nTQqLFPVmhzo",
        "colab": {
          "base_uri": "https://localhost:8080/"
        },
        "outputId": "3a5e22e7-a763-4467-817f-3e1b4feda3cd"
      },
      "outputs": [
        {
          "output_type": "stream",
          "name": "stdout",
          "text": [
            "[[5.30073916e+00 5.41292636e+00 9.24135663e+00 1.65995555e-02\n",
            "  9.84266804e+00 7.58254259e+00 1.60937618e+00 3.32713899e+00\n",
            "  7.54133040e+00 1.95351139e+00]\n",
            " [7.95201271e-01 3.59274726e+00 5.89517915e+00 6.74999627e+00\n",
            "  6.48378242e+00 2.70180873e+00 4.58078389e+00 2.57261941e+00\n",
            "  1.26071414e+00 4.81678674e+00]\n",
            " [5.89316622e+00 6.32344136e+00 9.51433162e+00 1.53272807e+00\n",
            "  1.01189980e+01 8.28553148e+00 3.18404210e+00 4.01997068e+00\n",
            "  9.11922304e+00 3.46504913e+00]\n",
            " [7.73886493e-02 1.64176935e+00 5.77537545e+00 9.37819833e+00\n",
            "  6.35778656e+00 1.77269872e+00 7.44958455e+00 9.83362672e-01\n",
            "  1.60104876e+00 7.43301302e+00]\n",
            " [8.85125137e+00 3.50287866e+00 1.44536725e+01 4.31065934e+00\n",
            "  1.50390291e+01 1.04845396e+01 5.24364267e+00 5.23238514e+00\n",
            "  8.93249817e-01 2.29252959e+00]\n",
            " [2.14610463e+00 6.54695618e+00 6.29917524e+00 2.47339725e+00\n",
            "  6.89763179e+00 4.38491688e+00 5.01721116e-03 4.92899017e+00\n",
            "  5.84253547e+00 5.57297979e-01]\n",
            " [4.25642204e+00 1.34939918e+01 6.34998306e+00 6.38380548e+00\n",
            "  6.96968336e+00 7.22693297e+00 9.81199549e+00 1.06726148e+01\n",
            "  1.56131813e+01 8.25553319e+00]\n",
            " [1.30852005e+01 1.50038295e+00 1.67788030e+01 5.12114499e+00\n",
            "  1.73843636e+01 1.53714503e+01 4.30550267e+00 1.61105934e+00\n",
            "  1.04848775e+01 7.11784340e+00]\n",
            " [5.11316588e+00 3.61659361e+00 9.53017303e+00 1.87085827e+00\n",
            "  1.01266384e+01 7.22239356e+00 5.98440173e-01 1.77399730e+00\n",
            "  5.35196642e+00 7.89156678e-02]\n",
            " [3.73341659e+00 9.71069152e+00 6.85037596e+00 2.26466208e+00\n",
            "  7.45963869e+00 6.33452179e+00 5.04485300e+00 7.42579539e+00\n",
            "  1.08816654e+01 4.16298277e+00]]\n"
          ]
        }
      ],
      "source": [
        "P0 = np.random.uniform(-10, 10, (10,2))\n",
        "P1 = np.random.uniform(-10,10,(10,2))\n",
        "p = np.random.uniform(-10, 10, (10,2))\n",
        "print(np.array([distance(P0,P1,p_i) for p_i in p]))\n"
      ]
    },
    {
      "cell_type": "markdown",
      "metadata": {
        "id": "MW5TYM4Pmhzo"
      },
      "source": [
        "#### 80. Consider an arbitrary array, write a function that extract a subpart with a fixed shape and centered on a given element (pad with a `fill` value when necessary) (★★★)"
      ]
    },
    {
      "cell_type": "code",
      "execution_count": null,
      "metadata": {
        "id": "St4-_S7-mhzp",
        "colab": {
          "base_uri": "https://localhost:8080/",
          "height": 262
        },
        "outputId": "59a3a2f9-7155-49f8-f405-ec13dc307d00"
      },
      "outputs": [
        {
          "output_type": "error",
          "ename": "IndexError",
          "evalue": "ignored",
          "traceback": [
            "\u001b[0;31m---------------------------------------------------------------------------\u001b[0m",
            "\u001b[0;31mIndexError\u001b[0m                                Traceback (most recent call last)",
            "\u001b[0;32m<ipython-input-182-f2b5781f38bf>\u001b[0m in \u001b[0;36m<cell line: 23>\u001b[0;34m()\u001b[0m\n\u001b[1;32m     21\u001b[0m \u001b[0mr\u001b[0m \u001b[0;34m=\u001b[0m \u001b[0;34m[\u001b[0m\u001b[0mslice\u001b[0m\u001b[0;34m(\u001b[0m\u001b[0mstart\u001b[0m\u001b[0;34m,\u001b[0m\u001b[0mstop\u001b[0m\u001b[0;34m)\u001b[0m \u001b[0;32mfor\u001b[0m \u001b[0mstart\u001b[0m\u001b[0;34m,\u001b[0m\u001b[0mstop\u001b[0m \u001b[0;32min\u001b[0m \u001b[0mzip\u001b[0m\u001b[0;34m(\u001b[0m\u001b[0mR_start\u001b[0m\u001b[0;34m,\u001b[0m\u001b[0mR_stop\u001b[0m\u001b[0;34m)\u001b[0m\u001b[0;34m]\u001b[0m\u001b[0;34m\u001b[0m\u001b[0;34m\u001b[0m\u001b[0m\n\u001b[1;32m     22\u001b[0m \u001b[0mz\u001b[0m \u001b[0;34m=\u001b[0m \u001b[0;34m[\u001b[0m\u001b[0mslice\u001b[0m\u001b[0;34m(\u001b[0m\u001b[0mstart\u001b[0m\u001b[0;34m,\u001b[0m\u001b[0mstop\u001b[0m\u001b[0;34m)\u001b[0m \u001b[0;32mfor\u001b[0m \u001b[0mstart\u001b[0m\u001b[0;34m,\u001b[0m\u001b[0mstop\u001b[0m \u001b[0;32min\u001b[0m \u001b[0mzip\u001b[0m\u001b[0;34m(\u001b[0m\u001b[0mZ_start\u001b[0m\u001b[0;34m,\u001b[0m\u001b[0mZ_stop\u001b[0m\u001b[0;34m)\u001b[0m\u001b[0;34m]\u001b[0m\u001b[0;34m\u001b[0m\u001b[0;34m\u001b[0m\u001b[0m\n\u001b[0;32m---> 23\u001b[0;31m \u001b[0mR\u001b[0m\u001b[0;34m[\u001b[0m\u001b[0mr\u001b[0m\u001b[0;34m]\u001b[0m \u001b[0;34m=\u001b[0m \u001b[0mZ\u001b[0m\u001b[0;34m[\u001b[0m\u001b[0mz\u001b[0m\u001b[0;34m]\u001b[0m\u001b[0;34m\u001b[0m\u001b[0;34m\u001b[0m\u001b[0m\n\u001b[0m\u001b[1;32m     24\u001b[0m \u001b[0mprint\u001b[0m\u001b[0;34m(\u001b[0m\u001b[0mZ\u001b[0m\u001b[0;34m)\u001b[0m\u001b[0;34m\u001b[0m\u001b[0;34m\u001b[0m\u001b[0m\n\u001b[1;32m     25\u001b[0m \u001b[0mprint\u001b[0m\u001b[0;34m(\u001b[0m\u001b[0mR\u001b[0m\u001b[0;34m)\u001b[0m\u001b[0;34m\u001b[0m\u001b[0;34m\u001b[0m\u001b[0m\n",
            "\u001b[0;31mIndexError\u001b[0m: only integers, slices (`:`), ellipsis (`...`), numpy.newaxis (`None`) and integer or boolean arrays are valid indices"
          ]
        }
      ],
      "source": [
        "Z = np.random.randint(0,10,(10,10))\n",
        "shape = (5,5)\n",
        "fill  = 0\n",
        "position = (1,1)\n",
        "\n",
        "R = np.ones(shape, dtype=Z.dtype)*fill\n",
        "P  = np.array(list(position)).astype(int)\n",
        "Rs = np.array(list(R.shape)).astype(int)\n",
        "Zs = np.array(list(Z.shape)).astype(int)\n",
        "\n",
        "R_start = np.zeros((len(shape),)).astype(int)\n",
        "R_stop  = np.array(list(shape)).astype(int)\n",
        "Z_start = (P-Rs//2)\n",
        "Z_stop  = (P+Rs//2)+Rs%2\n",
        "\n",
        "R_start = (R_start - np.minimum(Z_start,0)).tolist()\n",
        "Z_start = (np.maximum(Z_start,0)).tolist()\n",
        "R_stop = np.maximum(R_start, (R_stop - np.maximum(Z_stop-Zs,0))).tolist()\n",
        "Z_stop = (np.minimum(Z_stop,Zs)).tolist()\n",
        "\n",
        "r = [slice(start,stop) for start,stop in zip(R_start,R_stop)]\n",
        "z = [slice(start,stop) for start,stop in zip(Z_start,Z_stop)]\n",
        "R[r] = Z[z]\n",
        "print(Z)\n",
        "print(R)"
      ]
    },
    {
      "cell_type": "markdown",
      "metadata": {
        "id": "rOJYUDobmhzp"
      },
      "source": [
        "#### 81. Consider an array Z = [1,2,3,4,5,6,7,8,9,10,11,12,13,14], how to generate an array R = [[1,2,3,4], [2,3,4,5], [3,4,5,6], ..., [11,12,13,14]]? (★★★)"
      ]
    },
    {
      "cell_type": "code",
      "execution_count": null,
      "metadata": {
        "id": "D9Z5_xXSmhzp",
        "colab": {
          "base_uri": "https://localhost:8080/"
        },
        "outputId": "51293009-08c0-41c0-fb04-8cdae65f299d"
      },
      "outputs": [
        {
          "output_type": "stream",
          "name": "stdout",
          "text": [
            "[[ 1  2  3  4]\n",
            " [ 2  3  4  5]\n",
            " [ 3  4  5  6]\n",
            " [ 4  5  6  7]\n",
            " [ 5  6  7  8]\n",
            " [ 6  7  8  9]\n",
            " [ 7  8  9 10]\n",
            " [ 8  9 10 11]\n",
            " [ 9 10 11 12]\n",
            " [10 11 12 13]\n",
            " [11 12 13 14]]\n"
          ]
        }
      ],
      "source": [
        "Z = np.arange(1,15,dtype=np.uint32)\n",
        "R = stride_tricks.as_strided(Z,(11,4),(4,4))\n",
        "print(R)"
      ]
    },
    {
      "cell_type": "markdown",
      "metadata": {
        "id": "TbTpfaoCmhzp"
      },
      "source": [
        "#### 82. Compute a matrix rank (★★★)"
      ]
    },
    {
      "cell_type": "code",
      "execution_count": null,
      "metadata": {
        "id": "3-UGbkBjmhzp",
        "colab": {
          "base_uri": "https://localhost:8080/"
        },
        "outputId": "a5e47ec4-e50d-4fbf-e522-166331ccc035"
      },
      "outputs": [
        {
          "output_type": "stream",
          "name": "stdout",
          "text": [
            "10\n"
          ]
        }
      ],
      "source": [
        "Z = np.random.uniform(0,1,(10,10))\n",
        "U, S, V = np.linalg.svd(Z) # Singular Value Decomposition\n",
        "rank = np.sum(S > 1e-10)\n",
        "print(rank)"
      ]
    },
    {
      "cell_type": "markdown",
      "metadata": {
        "id": "EvsUYlL8mhzp"
      },
      "source": [
        "#### 83. How to find the most frequent value in an array?"
      ]
    },
    {
      "cell_type": "code",
      "execution_count": null,
      "metadata": {
        "id": "TFY01H64mhzp",
        "colab": {
          "base_uri": "https://localhost:8080/"
        },
        "outputId": "35f2aa3e-ce68-47b7-af96-1f0f6e79d544"
      },
      "outputs": [
        {
          "output_type": "stream",
          "name": "stdout",
          "text": [
            "6\n"
          ]
        }
      ],
      "source": [
        "Z = np.random.randint(0,10,50)\n",
        "print(np.bincount(Z).argmax())\n"
      ]
    },
    {
      "cell_type": "markdown",
      "metadata": {
        "id": "AY1ITyQemhzq"
      },
      "source": [
        "#### 84. Extract all the contiguous 3x3 blocks from a random 10x10 matrix (★★★)"
      ]
    },
    {
      "cell_type": "code",
      "execution_count": null,
      "metadata": {
        "id": "ycQOj780mhzq",
        "colab": {
          "base_uri": "https://localhost:8080/"
        },
        "outputId": "eb1ec58e-2b1d-4bb2-e079-d8a2621a516b"
      },
      "outputs": [
        {
          "output_type": "stream",
          "name": "stdout",
          "text": [
            "[[[[0 1 1]\n",
            "   [3 0 2]\n",
            "   [3 0 3]]\n",
            "\n",
            "  [[1 1 0]\n",
            "   [0 2 0]\n",
            "   [0 3 0]]\n",
            "\n",
            "  [[1 0 0]\n",
            "   [2 0 0]\n",
            "   [3 0 4]]\n",
            "\n",
            "  [[0 0 2]\n",
            "   [0 0 0]\n",
            "   [0 4 1]]\n",
            "\n",
            "  [[0 2 2]\n",
            "   [0 0 1]\n",
            "   [4 1 4]]\n",
            "\n",
            "  [[2 2 2]\n",
            "   [0 1 0]\n",
            "   [1 4 1]]\n",
            "\n",
            "  [[2 2 4]\n",
            "   [1 0 4]\n",
            "   [4 1 0]]\n",
            "\n",
            "  [[2 4 1]\n",
            "   [0 4 2]\n",
            "   [1 0 2]]]\n",
            "\n",
            "\n",
            " [[[3 0 2]\n",
            "   [3 0 3]\n",
            "   [3 1 3]]\n",
            "\n",
            "  [[0 2 0]\n",
            "   [0 3 0]\n",
            "   [1 3 4]]\n",
            "\n",
            "  [[2 0 0]\n",
            "   [3 0 4]\n",
            "   [3 4 0]]\n",
            "\n",
            "  [[0 0 0]\n",
            "   [0 4 1]\n",
            "   [4 0 1]]\n",
            "\n",
            "  [[0 0 1]\n",
            "   [4 1 4]\n",
            "   [0 1 1]]\n",
            "\n",
            "  [[0 1 0]\n",
            "   [1 4 1]\n",
            "   [1 1 2]]\n",
            "\n",
            "  [[1 0 4]\n",
            "   [4 1 0]\n",
            "   [1 2 3]]\n",
            "\n",
            "  [[0 4 2]\n",
            "   [1 0 2]\n",
            "   [2 3 2]]]\n",
            "\n",
            "\n",
            " [[[3 0 3]\n",
            "   [3 1 3]\n",
            "   [3 0 1]]\n",
            "\n",
            "  [[0 3 0]\n",
            "   [1 3 4]\n",
            "   [0 1 2]]\n",
            "\n",
            "  [[3 0 4]\n",
            "   [3 4 0]\n",
            "   [1 2 4]]\n",
            "\n",
            "  [[0 4 1]\n",
            "   [4 0 1]\n",
            "   [2 4 4]]\n",
            "\n",
            "  [[4 1 4]\n",
            "   [0 1 1]\n",
            "   [4 4 4]]\n",
            "\n",
            "  [[1 4 1]\n",
            "   [1 1 2]\n",
            "   [4 4 3]]\n",
            "\n",
            "  [[4 1 0]\n",
            "   [1 2 3]\n",
            "   [4 3 3]]\n",
            "\n",
            "  [[1 0 2]\n",
            "   [2 3 2]\n",
            "   [3 3 3]]]\n",
            "\n",
            "\n",
            " [[[3 1 3]\n",
            "   [3 0 1]\n",
            "   [4 2 3]]\n",
            "\n",
            "  [[1 3 4]\n",
            "   [0 1 2]\n",
            "   [2 3 3]]\n",
            "\n",
            "  [[3 4 0]\n",
            "   [1 2 4]\n",
            "   [3 3 1]]\n",
            "\n",
            "  [[4 0 1]\n",
            "   [2 4 4]\n",
            "   [3 1 1]]\n",
            "\n",
            "  [[0 1 1]\n",
            "   [4 4 4]\n",
            "   [1 1 0]]\n",
            "\n",
            "  [[1 1 2]\n",
            "   [4 4 3]\n",
            "   [1 0 2]]\n",
            "\n",
            "  [[1 2 3]\n",
            "   [4 3 3]\n",
            "   [0 2 1]]\n",
            "\n",
            "  [[2 3 2]\n",
            "   [3 3 3]\n",
            "   [2 1 2]]]\n",
            "\n",
            "\n",
            " [[[3 0 1]\n",
            "   [4 2 3]\n",
            "   [1 2 1]]\n",
            "\n",
            "  [[0 1 2]\n",
            "   [2 3 3]\n",
            "   [2 1 1]]\n",
            "\n",
            "  [[1 2 4]\n",
            "   [3 3 1]\n",
            "   [1 1 2]]\n",
            "\n",
            "  [[2 4 4]\n",
            "   [3 1 1]\n",
            "   [1 2 0]]\n",
            "\n",
            "  [[4 4 4]\n",
            "   [1 1 0]\n",
            "   [2 0 0]]\n",
            "\n",
            "  [[4 4 3]\n",
            "   [1 0 2]\n",
            "   [0 0 1]]\n",
            "\n",
            "  [[4 3 3]\n",
            "   [0 2 1]\n",
            "   [0 1 4]]\n",
            "\n",
            "  [[3 3 3]\n",
            "   [2 1 2]\n",
            "   [1 4 3]]]\n",
            "\n",
            "\n",
            " [[[4 2 3]\n",
            "   [1 2 1]\n",
            "   [2 2 2]]\n",
            "\n",
            "  [[2 3 3]\n",
            "   [2 1 1]\n",
            "   [2 2 0]]\n",
            "\n",
            "  [[3 3 1]\n",
            "   [1 1 2]\n",
            "   [2 0 2]]\n",
            "\n",
            "  [[3 1 1]\n",
            "   [1 2 0]\n",
            "   [0 2 2]]\n",
            "\n",
            "  [[1 1 0]\n",
            "   [2 0 0]\n",
            "   [2 2 3]]\n",
            "\n",
            "  [[1 0 2]\n",
            "   [0 0 1]\n",
            "   [2 3 1]]\n",
            "\n",
            "  [[0 2 1]\n",
            "   [0 1 4]\n",
            "   [3 1 4]]\n",
            "\n",
            "  [[2 1 2]\n",
            "   [1 4 3]\n",
            "   [1 4 1]]]\n",
            "\n",
            "\n",
            " [[[1 2 1]\n",
            "   [2 2 2]\n",
            "   [4 3 1]]\n",
            "\n",
            "  [[2 1 1]\n",
            "   [2 2 0]\n",
            "   [3 1 1]]\n",
            "\n",
            "  [[1 1 2]\n",
            "   [2 0 2]\n",
            "   [1 1 4]]\n",
            "\n",
            "  [[1 2 0]\n",
            "   [0 2 2]\n",
            "   [1 4 3]]\n",
            "\n",
            "  [[2 0 0]\n",
            "   [2 2 3]\n",
            "   [4 3 4]]\n",
            "\n",
            "  [[0 0 1]\n",
            "   [2 3 1]\n",
            "   [3 4 2]]\n",
            "\n",
            "  [[0 1 4]\n",
            "   [3 1 4]\n",
            "   [4 2 0]]\n",
            "\n",
            "  [[1 4 3]\n",
            "   [1 4 1]\n",
            "   [2 0 1]]]\n",
            "\n",
            "\n",
            " [[[2 2 2]\n",
            "   [4 3 1]\n",
            "   [4 0 1]]\n",
            "\n",
            "  [[2 2 0]\n",
            "   [3 1 1]\n",
            "   [0 1 0]]\n",
            "\n",
            "  [[2 0 2]\n",
            "   [1 1 4]\n",
            "   [1 0 2]]\n",
            "\n",
            "  [[0 2 2]\n",
            "   [1 4 3]\n",
            "   [0 2 2]]\n",
            "\n",
            "  [[2 2 3]\n",
            "   [4 3 4]\n",
            "   [2 2 4]]\n",
            "\n",
            "  [[2 3 1]\n",
            "   [3 4 2]\n",
            "   [2 4 1]]\n",
            "\n",
            "  [[3 1 4]\n",
            "   [4 2 0]\n",
            "   [4 1 4]]\n",
            "\n",
            "  [[1 4 1]\n",
            "   [2 0 1]\n",
            "   [1 4 1]]]]\n"
          ]
        }
      ],
      "source": [
        "Z = np.random.randint(0,5,(10,10))\n",
        "n = 3\n",
        "i = 1 + (Z.shape[0]-3)\n",
        "j = 1 + (Z.shape[1]-3)\n",
        "C = stride_tricks.as_strided(Z, shape=(i, j, n, n), strides=Z.strides + Z.strides)\n",
        "print(C)"
      ]
    },
    {
      "cell_type": "markdown",
      "metadata": {
        "id": "ZqXI-9tGmhzq"
      },
      "source": [
        "#### 85. Create a 2D array subclass such that Z[i,j] == Z[j,i] (★★★)"
      ]
    },
    {
      "cell_type": "code",
      "execution_count": null,
      "metadata": {
        "id": "QqhuPOzemhzq",
        "colab": {
          "base_uri": "https://localhost:8080/"
        },
        "outputId": "f2f57b33-3bef-48db-a378-15b8de290a88"
      },
      "outputs": [
        {
          "output_type": "stream",
          "name": "stdout",
          "text": [
            "[[ 1 10  8 14  9]\n",
            " [10  7  9 13 18]\n",
            " [ 8  9  6 42  8]\n",
            " [14 13 42  7 12]\n",
            " [ 9 18  8 12  1]]\n"
          ]
        }
      ],
      "source": [
        "class Symetric(np.ndarray):\n",
        "    def __setitem__(self, index, value):\n",
        "        i,j = index\n",
        "        super(Symetric, self).__setitem__((i,j), value)\n",
        "        super(Symetric, self).__setitem__((j,i), value)\n",
        "\n",
        "def symetric(Z):\n",
        "    return np.asarray(Z + Z.T - np.diag(Z.diagonal())).view(Symetric)\n",
        "\n",
        "S = symetric(np.random.randint(0,10,(5,5)))\n",
        "S[2,3] = 42\n",
        "print(S)"
      ]
    },
    {
      "cell_type": "markdown",
      "metadata": {
        "id": "l7keEM73mhzr"
      },
      "source": [
        "#### 86. Consider a set of p matrices wich shape (n,n) and a set of p vectors with shape (n,1). How to compute the sum of of the p matrix products at once? (result has shape (n,1)) (★★★)"
      ]
    },
    {
      "cell_type": "code",
      "execution_count": null,
      "metadata": {
        "id": "lQz_Jib6mhzr",
        "colab": {
          "base_uri": "https://localhost:8080/"
        },
        "outputId": "747b8f12-c032-4ab7-89de-cb991ab4f00d"
      },
      "outputs": [
        {
          "output_type": "stream",
          "name": "stdout",
          "text": [
            "[[200.]\n",
            " [200.]\n",
            " [200.]\n",
            " [200.]\n",
            " [200.]\n",
            " [200.]\n",
            " [200.]\n",
            " [200.]\n",
            " [200.]\n",
            " [200.]\n",
            " [200.]\n",
            " [200.]\n",
            " [200.]\n",
            " [200.]\n",
            " [200.]\n",
            " [200.]\n",
            " [200.]\n",
            " [200.]\n",
            " [200.]\n",
            " [200.]]\n"
          ]
        }
      ],
      "source": [
        "p, n = 10, 20\n",
        "M = np.ones((p,n,n))\n",
        "V = np.ones((p,n,1))\n",
        "S = np.tensordot(M, V, axes=[[0, 2], [0, 1]])\n",
        "print(S)"
      ]
    },
    {
      "cell_type": "markdown",
      "metadata": {
        "id": "U4o-fxAGmhzr"
      },
      "source": [
        "#### 87. Consider a 16x16 array, how to get the block-sum (block size is 4x4)? (★★★)"
      ]
    },
    {
      "cell_type": "code",
      "execution_count": null,
      "metadata": {
        "id": "162-mTComhzr",
        "colab": {
          "base_uri": "https://localhost:8080/"
        },
        "outputId": "584a6ed5-2c12-4b2b-feab-b25d4ca716ce"
      },
      "outputs": [
        {
          "output_type": "stream",
          "name": "stdout",
          "text": [
            "[[16. 16. 16. 16.]\n",
            " [16. 16. 16. 16.]\n",
            " [16. 16. 16. 16.]\n",
            " [16. 16. 16. 16.]]\n"
          ]
        }
      ],
      "source": [
        "\n",
        "Z = np.ones((16,16))\n",
        "k = 4\n",
        "S = np.add.reduceat(np.add.reduceat(Z, np.arange(0, Z.shape[0], k), axis=0),\n",
        "                                       np.arange(0, Z.shape[1], k), axis=1)\n",
        "print(S)"
      ]
    },
    {
      "cell_type": "markdown",
      "metadata": {
        "id": "mB8xIDdcmhzr"
      },
      "source": [
        "#### 88. How to implement the Game of Life using numpy arrays? (★★★)"
      ]
    },
    {
      "cell_type": "code",
      "execution_count": null,
      "metadata": {
        "id": "qlXOHn0Omhzr",
        "colab": {
          "base_uri": "https://localhost:8080/"
        },
        "outputId": "200407f5-ff08-4ede-8cc6-0df059b648cd"
      },
      "outputs": [
        {
          "output_type": "stream",
          "name": "stdout",
          "text": [
            "[[0 0 0 ... 0 0 0]\n",
            " [0 0 0 ... 0 0 0]\n",
            " [0 0 1 ... 0 0 0]\n",
            " ...\n",
            " [0 0 0 ... 0 0 0]\n",
            " [0 0 0 ... 0 0 0]\n",
            " [0 0 0 ... 0 0 0]]\n"
          ]
        }
      ],
      "source": [
        "def iterate(Z):\n",
        "    # Count neighbours\n",
        "    N = (Z[0:-2,0:-2] + Z[0:-2,1:-1] + Z[0:-2,2:] +\n",
        "         Z[1:-1,0:-2]                + Z[1:-1,2:] +\n",
        "         Z[2:  ,0:-2] + Z[2:  ,1:-1] + Z[2:  ,2:])\n",
        "\n",
        "    # Apply rules\n",
        "    birth = (N==3) & (Z[1:-1,1:-1]==0)\n",
        "    survive = ((N==2) | (N==3)) & (Z[1:-1,1:-1]==1)\n",
        "    Z[...] = 0\n",
        "    Z[1:-1,1:-1][birth | survive] = 1\n",
        "    return Z\n",
        "\n",
        "Z = np.random.randint(0,2,(50,50))\n",
        "for i in range(100): Z = iterate(Z)\n",
        "print(Z)"
      ]
    },
    {
      "cell_type": "markdown",
      "metadata": {
        "id": "pHSrHOVrmhzr"
      },
      "source": [
        "#### 89. How to get the n largest values of an array (★★★)"
      ]
    },
    {
      "cell_type": "code",
      "execution_count": null,
      "metadata": {
        "id": "UiPEpATsmhzr",
        "colab": {
          "base_uri": "https://localhost:8080/"
        },
        "outputId": "b8200649-29ea-40c9-feef-51e12a453786"
      },
      "outputs": [
        {
          "output_type": "stream",
          "name": "stdout",
          "text": [
            "[9995 9996 9997 9998 9999]\n",
            "[9997 9998 9999 9996 9995]\n"
          ]
        }
      ],
      "source": [
        "Z = np.arange(10000)\n",
        "np.random.shuffle(Z)\n",
        "n = 5\n",
        "\n",
        "# Slow\n",
        "print (Z[np.argsort(Z)[-n:]])\n",
        "\n",
        "# Fast\n",
        "print (Z[np.argpartition(-Z,n)[:n]])"
      ]
    },
    {
      "cell_type": "markdown",
      "metadata": {
        "id": "2W_FzA6omhzs"
      },
      "source": [
        "#### 90. Given an arbitrary number of vectors, build the cartesian product (every combinations of every item) (★★★)"
      ]
    },
    {
      "cell_type": "code",
      "execution_count": null,
      "metadata": {
        "id": "n28-FOvrmhzs",
        "colab": {
          "base_uri": "https://localhost:8080/"
        },
        "outputId": "766f54f1-d68b-43c0-921c-da5644138bf0"
      },
      "outputs": [
        {
          "output_type": "stream",
          "name": "stdout",
          "text": [
            "[[1 4 6]\n",
            " [1 4 7]\n",
            " [1 5 6]\n",
            " [1 5 7]\n",
            " [2 4 6]\n",
            " [2 4 7]\n",
            " [2 5 6]\n",
            " [2 5 7]\n",
            " [3 4 6]\n",
            " [3 4 7]\n",
            " [3 5 6]\n",
            " [3 5 7]]\n"
          ]
        }
      ],
      "source": [
        "def cartesian(arrays):\n",
        "    arrays = [np.asarray(a) for a in arrays]\n",
        "    shape = (len(x) for x in arrays)\n",
        "\n",
        "    ix = np.indices(shape, dtype=int)\n",
        "    ix = ix.reshape(len(arrays), -1).T\n",
        "\n",
        "    for n, arr in enumerate(arrays):\n",
        "        ix[:, n] = arrays[n][ix[:, n]]\n",
        "\n",
        "    return ix\n",
        "\n",
        "print (cartesian(([1, 2, 3], [4, 5], [6, 7])))"
      ]
    },
    {
      "cell_type": "markdown",
      "metadata": {
        "id": "-N7gsnBmmhzs"
      },
      "source": [
        "#### 91. How to create a record array from a regular array? (★★★)"
      ]
    },
    {
      "cell_type": "code",
      "execution_count": null,
      "metadata": {
        "id": "q9G4HvQCmhzs",
        "colab": {
          "base_uri": "https://localhost:8080/"
        },
        "outputId": "843f391a-fd9a-4c53-afa2-fd1f8e011d9a"
      },
      "outputs": [
        {
          "output_type": "stream",
          "name": "stdout",
          "text": [
            "[(b'Hello', 2.5, 3) (b'World', 3.6, 2)]\n"
          ]
        }
      ],
      "source": [
        "Z = np.array([(\"Hello\", 2.5, 3),\n",
        "              (\"World\", 3.6, 2)])\n",
        "R = np.core.records.fromarrays(Z.T,\n",
        "                               names='col1, col2, col3',\n",
        "                               formats = 'S8, f8, i8')\n",
        "print(R)"
      ]
    },
    {
      "cell_type": "markdown",
      "metadata": {
        "id": "jk-FR-ETmhzs"
      },
      "source": [
        "#### 92. Consider a large vector Z, compute Z to the power of 3 using 3 different methods (★★★)"
      ]
    },
    {
      "cell_type": "code",
      "execution_count": null,
      "metadata": {
        "id": "CI5J8g0Qmhzs",
        "colab": {
          "base_uri": "https://localhost:8080/",
          "height": 349
        },
        "outputId": "cafaeaa1-011f-4abe-97f2-96c32843415e"
      },
      "outputs": [
        {
          "output_type": "error",
          "ename": "TypeError",
          "evalue": "ignored",
          "traceback": [
            "\u001b[0;31m---------------------------------------------------------------------------\u001b[0m",
            "\u001b[0;31mTypeError\u001b[0m                                 Traceback (most recent call last)",
            "\u001b[0;32m<ipython-input-194-a370807230cb>\u001b[0m in \u001b[0;36m<cell line: 1>\u001b[0;34m()\u001b[0m\n\u001b[0;32m----> 1\u001b[0;31m \u001b[0mx\u001b[0m \u001b[0;34m=\u001b[0m \u001b[0mnp\u001b[0m\u001b[0;34m.\u001b[0m\u001b[0mrandom\u001b[0m\u001b[0;34m.\u001b[0m\u001b[0mrand\u001b[0m\u001b[0;34m(\u001b[0m\u001b[0;36m5e7\u001b[0m\u001b[0;34m)\u001b[0m\u001b[0;34m\u001b[0m\u001b[0;34m\u001b[0m\u001b[0m\n\u001b[0m\u001b[1;32m      2\u001b[0m \u001b[0;34m\u001b[0m\u001b[0m\n\u001b[1;32m      3\u001b[0m \u001b[0mget_ipython\u001b[0m\u001b[0;34m(\u001b[0m\u001b[0;34m)\u001b[0m\u001b[0;34m.\u001b[0m\u001b[0mrun_line_magic\u001b[0m\u001b[0;34m(\u001b[0m\u001b[0;34m'timeit'\u001b[0m\u001b[0;34m,\u001b[0m \u001b[0;34m'np.power(x,3)'\u001b[0m\u001b[0;34m)\u001b[0m\u001b[0;34m\u001b[0m\u001b[0;34m\u001b[0m\u001b[0m\n\u001b[1;32m      4\u001b[0m \u001b[0mget_ipython\u001b[0m\u001b[0;34m(\u001b[0m\u001b[0;34m)\u001b[0m\u001b[0;34m.\u001b[0m\u001b[0mrun_line_magic\u001b[0m\u001b[0;34m(\u001b[0m\u001b[0;34m'timeit'\u001b[0m\u001b[0;34m,\u001b[0m \u001b[0;34m'x*x*x'\u001b[0m\u001b[0;34m)\u001b[0m\u001b[0;34m\u001b[0m\u001b[0;34m\u001b[0m\u001b[0m\n\u001b[1;32m      5\u001b[0m \u001b[0mget_ipython\u001b[0m\u001b[0;34m(\u001b[0m\u001b[0;34m)\u001b[0m\u001b[0;34m.\u001b[0m\u001b[0mrun_line_magic\u001b[0m\u001b[0;34m(\u001b[0m\u001b[0;34m'timeit'\u001b[0m\u001b[0;34m,\u001b[0m \u001b[0;34m\"np.einsum('i,i,i->i',x,x,x)\"\u001b[0m\u001b[0;34m)\u001b[0m\u001b[0;34m\u001b[0m\u001b[0;34m\u001b[0m\u001b[0m\n",
            "\u001b[0;32mmtrand.pyx\u001b[0m in \u001b[0;36mnumpy.random.mtrand.RandomState.rand\u001b[0;34m()\u001b[0m\n",
            "\u001b[0;32mmtrand.pyx\u001b[0m in \u001b[0;36mnumpy.random.mtrand.RandomState.random_sample\u001b[0;34m()\u001b[0m\n",
            "\u001b[0;32m_common.pyx\u001b[0m in \u001b[0;36mnumpy.random._common.double_fill\u001b[0;34m()\u001b[0m\n",
            "\u001b[0;31mTypeError\u001b[0m: 'float' object cannot be interpreted as an integer"
          ]
        }
      ],
      "source": [
        "x = np.random.rand(5e7)\n",
        "\n",
        "%timeit np.power(x,3)\n",
        "%timeit x*x*x\n",
        "%timeit np.einsum('i,i,i->i',x,x,x)"
      ]
    },
    {
      "cell_type": "markdown",
      "metadata": {
        "id": "DmR_llzWmhzs"
      },
      "source": [
        "#### 93. Consider two arrays A and B of shape (8,3) and (2,2). How to find rows of A that contain elements of each row of B regardless of the order of the elements in B? (★★★)"
      ]
    },
    {
      "cell_type": "code",
      "execution_count": null,
      "metadata": {
        "id": "qIk-aL2bmhzs",
        "colab": {
          "base_uri": "https://localhost:8080/"
        },
        "outputId": "be3d9b8a-decb-4f42-80b7-463807d3cfd8"
      },
      "outputs": [
        {
          "output_type": "stream",
          "name": "stdout",
          "text": [
            "[0 1 2 3 7]\n"
          ]
        }
      ],
      "source": [
        "A = np.random.randint(0,5,(8,3))\n",
        "B = np.random.randint(0,5,(2,2))\n",
        "\n",
        "C = (A[..., np.newaxis, np.newaxis] == B)\n",
        "rows = np.where(C.any((3,1)).all(1))[0]\n",
        "print(rows)"
      ]
    },
    {
      "cell_type": "markdown",
      "metadata": {
        "id": "LRvEPBhQmhzs"
      },
      "source": [
        "#### 94. Considering a 10x3 matrix, extract rows with unequal values (e.g. [2,2,3]) (★★★)"
      ]
    },
    {
      "cell_type": "code",
      "execution_count": null,
      "metadata": {
        "id": "e_Xz1qbhmhzt",
        "colab": {
          "base_uri": "https://localhost:8080/"
        },
        "outputId": "bcb519b8-80b0-4d83-aec8-c888f3136b94"
      },
      "outputs": [
        {
          "output_type": "stream",
          "name": "stdout",
          "text": [
            "[[2 0 0]\n",
            " [3 2 1]\n",
            " [1 2 4]\n",
            " [4 2 2]\n",
            " [4 1 1]\n",
            " [4 1 2]\n",
            " [0 4 3]\n",
            " [4 2 3]\n",
            " [2 0 0]\n",
            " [3 3 4]]\n",
            "[[2 0 0]\n",
            " [3 2 1]\n",
            " [1 2 4]\n",
            " [4 2 2]\n",
            " [4 1 1]\n",
            " [4 1 2]\n",
            " [0 4 3]\n",
            " [4 2 3]\n",
            " [2 0 0]\n",
            " [3 3 4]]\n",
            "[[2 0 0]\n",
            " [3 2 1]\n",
            " [1 2 4]\n",
            " [4 2 2]\n",
            " [4 1 1]\n",
            " [4 1 2]\n",
            " [0 4 3]\n",
            " [4 2 3]\n",
            " [2 0 0]\n",
            " [3 3 4]]\n"
          ]
        }
      ],
      "source": [
        "Z = np.random.randint(0,5,(10,3))\n",
        "print(Z)\n",
        "# solution for arrays of all dtypes (including string arrays and record arrays)\n",
        "E = np.all(Z[:,1:] == Z[:,:-1], axis=1)\n",
        "U = Z[~E]\n",
        "print(U)\n",
        "# soluiton for numerical arrays only, will work for any number of columns in Z\n",
        "U = Z[Z.max(axis=1) != Z.min(axis=1),:]\n",
        "print(U)"
      ]
    },
    {
      "cell_type": "markdown",
      "metadata": {
        "id": "52e9-W4Amhzt"
      },
      "source": [
        "#### 95. Convert a vector of ints into a matrix binary representation (★★★)"
      ]
    },
    {
      "cell_type": "code",
      "execution_count": null,
      "metadata": {
        "id": "g8Pk8pQTmhzt",
        "colab": {
          "base_uri": "https://localhost:8080/"
        },
        "outputId": "77e4e2c1-1882-4db9-94ae-7e128043e87f"
      },
      "outputs": [
        {
          "output_type": "stream",
          "name": "stdout",
          "text": [
            "[[0 0 0 0 0 0 0 0]\n",
            " [0 0 0 0 0 0 0 1]\n",
            " [0 0 0 0 0 0 1 0]\n",
            " [0 0 0 0 0 0 1 1]\n",
            " [0 0 0 0 1 1 1 1]\n",
            " [0 0 0 1 0 0 0 0]\n",
            " [0 0 1 0 0 0 0 0]\n",
            " [0 1 0 0 0 0 0 0]\n",
            " [1 0 0 0 0 0 0 0]]\n",
            "[[0 0 0 0 0 0 0 0]\n",
            " [0 0 0 0 0 0 0 1]\n",
            " [0 0 0 0 0 0 1 0]\n",
            " [0 0 0 0 0 0 1 1]\n",
            " [0 0 0 0 1 1 1 1]\n",
            " [0 0 0 1 0 0 0 0]\n",
            " [0 0 1 0 0 0 0 0]\n",
            " [0 1 0 0 0 0 0 0]\n",
            " [1 0 0 0 0 0 0 0]]\n"
          ]
        }
      ],
      "source": [
        "I = np.array([0, 1, 2, 3, 15, 16, 32, 64, 128])\n",
        "B = ((I.reshape(-1,1) & (2**np.arange(8))) != 0).astype(int)\n",
        "print(B[:,::-1])\n",
        "\n",
        "# Author: Daniel T. McDonald\n",
        "\n",
        "I = np.array([0, 1, 2, 3, 15, 16, 32, 64, 128], dtype=np.uint8)\n",
        "print(np.unpackbits(I[:, np.newaxis], axis=1))"
      ]
    },
    {
      "cell_type": "markdown",
      "metadata": {
        "id": "9nmhTYnGmhzt"
      },
      "source": [
        "#### 96. Given a two dimensional array, how to extract unique rows? (★★★)"
      ]
    },
    {
      "cell_type": "code",
      "execution_count": null,
      "metadata": {
        "id": "Aaac7xn6mhzt"
      },
      "outputs": [],
      "source": []
    },
    {
      "cell_type": "markdown",
      "metadata": {
        "id": "L_QWOPULmhzt"
      },
      "source": [
        "#### 97. Considering 2 vectors A & B, write the einsum equivalent of inner, outer, sum, and mul function (★★★)"
      ]
    },
    {
      "cell_type": "code",
      "execution_count": null,
      "metadata": {
        "id": "ONBQKvHcmhzt"
      },
      "outputs": [],
      "source": []
    },
    {
      "cell_type": "markdown",
      "metadata": {
        "id": "1wA_Bjeomhzt"
      },
      "source": [
        "#### 98. Considering a path described by two vectors (X,Y), how to sample it using equidistant samples (★★★)?"
      ]
    },
    {
      "cell_type": "code",
      "execution_count": null,
      "metadata": {
        "id": "WYp4Mb6emhzt"
      },
      "outputs": [],
      "source": []
    },
    {
      "cell_type": "markdown",
      "metadata": {
        "id": "ebthERr5mhzu"
      },
      "source": [
        "#### 99. Given an integer n and a 2D array X, select from X the rows which can be interpreted as draws from a multinomial distribution with n degrees, i.e., the rows which only contain integers and which sum to n. (★★★)"
      ]
    },
    {
      "cell_type": "code",
      "execution_count": null,
      "metadata": {
        "id": "hQPMOVHzmhzu"
      },
      "outputs": [],
      "source": []
    },
    {
      "cell_type": "markdown",
      "metadata": {
        "id": "ULI3hk2_mhzu"
      },
      "source": [
        "#### 100. Compute bootstrapped 95% confidence intervals for the mean of a 1D array X (i.e., resample the elements of an array with replacement N times, compute the mean of each sample, and then compute percentiles over the means). (★★★)"
      ]
    },
    {
      "cell_type": "code",
      "source": [],
      "metadata": {
        "id": "cVE5WE9KRRpf"
      },
      "execution_count": null,
      "outputs": []
    }
  ],
  "metadata": {
    "kernelspec": {
      "display_name": "Python 3 (ipykernel)",
      "language": "python",
      "name": "python3"
    },
    "language_info": {
      "codemirror_mode": {
        "name": "ipython",
        "version": 3
      },
      "file_extension": ".py",
      "mimetype": "text/x-python",
      "name": "python",
      "nbconvert_exporter": "python",
      "pygments_lexer": "ipython3",
      "version": "3.11.3"
    },
    "colab": {
      "provenance": [],
      "include_colab_link": true
    }
  },
  "nbformat": 4,
  "nbformat_minor": 0
}